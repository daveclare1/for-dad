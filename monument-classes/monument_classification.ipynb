{
 "cells": [
  {
   "attachments": {},
   "cell_type": "markdown",
   "metadata": {},
   "source": [
    "Ref: https://joernhees.de/blog/2015/08/26/scipy-hierarchical-clustering-and-dendrogram-tutorial/"
   ]
  },
  {
   "cell_type": "code",
   "execution_count": 1,
   "metadata": {},
   "outputs": [],
   "source": [
    "import pandas as pd\n",
    "from scipy.cluster.hierarchy import dendrogram, linkage, cophenet, fcluster\n",
    "from scipy.spatial.distance import pdist\n",
    "import numpy as np\n",
    "import matplotlib.pyplot as plt\n",
    "import plotly.express as px"
   ]
  },
  {
   "cell_type": "code",
   "execution_count": 2,
   "metadata": {},
   "outputs": [
    {
     "data": {
      "text/html": [
       "<div>\n",
       "<style scoped>\n",
       "    .dataframe tbody tr th:only-of-type {\n",
       "        vertical-align: middle;\n",
       "    }\n",
       "\n",
       "    .dataframe tbody tr th {\n",
       "        vertical-align: top;\n",
       "    }\n",
       "\n",
       "    .dataframe thead th {\n",
       "        text-align: right;\n",
       "    }\n",
       "</style>\n",
       "<table border=\"1\" class=\"dataframe\">\n",
       "  <thead>\n",
       "    <tr style=\"text-align: right;\">\n",
       "      <th></th>\n",
       "      <th>standing stones/boulders</th>\n",
       "      <th>orthostats/boulders and bank</th>\n",
       "      <th>ditch and bank</th>\n",
       "      <th>bank</th>\n",
       "      <th>stones on or protrude from mound</th>\n",
       "      <th>other, inc once below mound</th>\n",
       "      <th>regularly spaced</th>\n",
       "      <th>irregularly spaced</th>\n",
       "      <th>contiguoius</th>\n",
       "      <th>bank faced inside</th>\n",
       "      <th>...</th>\n",
       "      <th>paired stones outside</th>\n",
       "      <th>avenue row</th>\n",
       "      <th>other.2</th>\n",
       "      <th>part of complex</th>\n",
       "      <th>other.3</th>\n",
       "      <th>diam 1</th>\n",
       "      <th>diam 2</th>\n",
       "      <th>diam 3</th>\n",
       "      <th>diam 4</th>\n",
       "      <th>Unnamed: 50</th>\n",
       "    </tr>\n",
       "    <tr>\n",
       "      <th>Name</th>\n",
       "      <th></th>\n",
       "      <th></th>\n",
       "      <th></th>\n",
       "      <th></th>\n",
       "      <th></th>\n",
       "      <th></th>\n",
       "      <th></th>\n",
       "      <th></th>\n",
       "      <th></th>\n",
       "      <th></th>\n",
       "      <th></th>\n",
       "      <th></th>\n",
       "      <th></th>\n",
       "      <th></th>\n",
       "      <th></th>\n",
       "      <th></th>\n",
       "      <th></th>\n",
       "      <th></th>\n",
       "      <th></th>\n",
       "      <th></th>\n",
       "      <th></th>\n",
       "    </tr>\n",
       "  </thead>\n",
       "  <tbody>\n",
       "    <tr>\n",
       "      <th>Cerrig Pryfraid</th>\n",
       "      <td>1</td>\n",
       "      <td>0</td>\n",
       "      <td>0</td>\n",
       "      <td>0</td>\n",
       "      <td>0</td>\n",
       "      <td>0</td>\n",
       "      <td>1</td>\n",
       "      <td>0</td>\n",
       "      <td>0</td>\n",
       "      <td>0</td>\n",
       "      <td>...</td>\n",
       "      <td>0</td>\n",
       "      <td>0</td>\n",
       "      <td>0</td>\n",
       "      <td>0</td>\n",
       "      <td>0</td>\n",
       "      <td>1</td>\n",
       "      <td>0</td>\n",
       "      <td>0</td>\n",
       "      <td>0</td>\n",
       "      <td>0</td>\n",
       "    </tr>\n",
       "    <tr>\n",
       "      <th>Brankam Hill 2</th>\n",
       "      <td>0</td>\n",
       "      <td>0</td>\n",
       "      <td>0</td>\n",
       "      <td>0</td>\n",
       "      <td>1</td>\n",
       "      <td>0</td>\n",
       "      <td>0</td>\n",
       "      <td>0</td>\n",
       "      <td>0</td>\n",
       "      <td>0</td>\n",
       "      <td>...</td>\n",
       "      <td>0</td>\n",
       "      <td>0</td>\n",
       "      <td>0</td>\n",
       "      <td>1</td>\n",
       "      <td>0</td>\n",
       "      <td>1</td>\n",
       "      <td>0</td>\n",
       "      <td>0</td>\n",
       "      <td>0</td>\n",
       "      <td>0</td>\n",
       "    </tr>\n",
       "    <tr>\n",
       "      <th>Upper Auchnagorth</th>\n",
       "      <td>1</td>\n",
       "      <td>0</td>\n",
       "      <td>0</td>\n",
       "      <td>0</td>\n",
       "      <td>0</td>\n",
       "      <td>0</td>\n",
       "      <td>1</td>\n",
       "      <td>0</td>\n",
       "      <td>0</td>\n",
       "      <td>0</td>\n",
       "      <td>...</td>\n",
       "      <td>0</td>\n",
       "      <td>0</td>\n",
       "      <td>0</td>\n",
       "      <td>0</td>\n",
       "      <td>0</td>\n",
       "      <td>1</td>\n",
       "      <td>0</td>\n",
       "      <td>0</td>\n",
       "      <td>0</td>\n",
       "      <td>0</td>\n",
       "    </tr>\n",
       "    <tr>\n",
       "      <th>Abercross</th>\n",
       "      <td>1</td>\n",
       "      <td>0</td>\n",
       "      <td>0</td>\n",
       "      <td>0</td>\n",
       "      <td>0</td>\n",
       "      <td>0</td>\n",
       "      <td>1</td>\n",
       "      <td>0</td>\n",
       "      <td>0</td>\n",
       "      <td>0</td>\n",
       "      <td>...</td>\n",
       "      <td>0</td>\n",
       "      <td>0</td>\n",
       "      <td>0</td>\n",
       "      <td>0</td>\n",
       "      <td>0</td>\n",
       "      <td>1</td>\n",
       "      <td>0</td>\n",
       "      <td>0</td>\n",
       "      <td>0</td>\n",
       "      <td>0</td>\n",
       "    </tr>\n",
       "    <tr>\n",
       "      <th>Achanarass Hill</th>\n",
       "      <td>1</td>\n",
       "      <td>0</td>\n",
       "      <td>0</td>\n",
       "      <td>0</td>\n",
       "      <td>0</td>\n",
       "      <td>0</td>\n",
       "      <td>1</td>\n",
       "      <td>0</td>\n",
       "      <td>0</td>\n",
       "      <td>0</td>\n",
       "      <td>...</td>\n",
       "      <td>0</td>\n",
       "      <td>0</td>\n",
       "      <td>0</td>\n",
       "      <td>0</td>\n",
       "      <td>0</td>\n",
       "      <td>1</td>\n",
       "      <td>0</td>\n",
       "      <td>0</td>\n",
       "      <td>0</td>\n",
       "      <td>0</td>\n",
       "    </tr>\n",
       "    <tr>\n",
       "      <th>...</th>\n",
       "      <td>...</td>\n",
       "      <td>...</td>\n",
       "      <td>...</td>\n",
       "      <td>...</td>\n",
       "      <td>...</td>\n",
       "      <td>...</td>\n",
       "      <td>...</td>\n",
       "      <td>...</td>\n",
       "      <td>...</td>\n",
       "      <td>...</td>\n",
       "      <td>...</td>\n",
       "      <td>...</td>\n",
       "      <td>...</td>\n",
       "      <td>...</td>\n",
       "      <td>...</td>\n",
       "      <td>...</td>\n",
       "      <td>...</td>\n",
       "      <td>...</td>\n",
       "      <td>...</td>\n",
       "      <td>...</td>\n",
       "      <td>...</td>\n",
       "    </tr>\n",
       "    <tr>\n",
       "      <th>Lacra B</th>\n",
       "      <td>1</td>\n",
       "      <td>0</td>\n",
       "      <td>0</td>\n",
       "      <td>0</td>\n",
       "      <td>0</td>\n",
       "      <td>1</td>\n",
       "      <td>0</td>\n",
       "      <td>0</td>\n",
       "      <td>0</td>\n",
       "      <td>0</td>\n",
       "      <td>...</td>\n",
       "      <td>0</td>\n",
       "      <td>0</td>\n",
       "      <td>0</td>\n",
       "      <td>0</td>\n",
       "      <td>0</td>\n",
       "      <td>1</td>\n",
       "      <td>0</td>\n",
       "      <td>0</td>\n",
       "      <td>0</td>\n",
       "      <td>0</td>\n",
       "    </tr>\n",
       "    <tr>\n",
       "      <th>Llacra D</th>\n",
       "      <td>1</td>\n",
       "      <td>0</td>\n",
       "      <td>0</td>\n",
       "      <td>0</td>\n",
       "      <td>0</td>\n",
       "      <td>1</td>\n",
       "      <td>0</td>\n",
       "      <td>0</td>\n",
       "      <td>0</td>\n",
       "      <td>0</td>\n",
       "      <td>...</td>\n",
       "      <td>0</td>\n",
       "      <td>1</td>\n",
       "      <td>0</td>\n",
       "      <td>0</td>\n",
       "      <td>0</td>\n",
       "      <td>1</td>\n",
       "      <td>0</td>\n",
       "      <td>0</td>\n",
       "      <td>0</td>\n",
       "      <td>0</td>\n",
       "    </tr>\n",
       "    <tr>\n",
       "      <th>Sdtanton Drew</th>\n",
       "      <td>1</td>\n",
       "      <td>0</td>\n",
       "      <td>0</td>\n",
       "      <td>0</td>\n",
       "      <td>0</td>\n",
       "      <td>1</td>\n",
       "      <td>0</td>\n",
       "      <td>0</td>\n",
       "      <td>0</td>\n",
       "      <td>0</td>\n",
       "      <td>...</td>\n",
       "      <td>0</td>\n",
       "      <td>1</td>\n",
       "      <td>0</td>\n",
       "      <td>0</td>\n",
       "      <td>0</td>\n",
       "      <td>0</td>\n",
       "      <td>0</td>\n",
       "      <td>0</td>\n",
       "      <td>1</td>\n",
       "      <td>0</td>\n",
       "    </tr>\n",
       "    <tr>\n",
       "      <th>Stangton Drew NE</th>\n",
       "      <td>1</td>\n",
       "      <td>0</td>\n",
       "      <td>0</td>\n",
       "      <td>0</td>\n",
       "      <td>0</td>\n",
       "      <td>1</td>\n",
       "      <td>0</td>\n",
       "      <td>0</td>\n",
       "      <td>0</td>\n",
       "      <td>0</td>\n",
       "      <td>...</td>\n",
       "      <td>0</td>\n",
       "      <td>1</td>\n",
       "      <td>0</td>\n",
       "      <td>0</td>\n",
       "      <td>0</td>\n",
       "      <td>0</td>\n",
       "      <td>1</td>\n",
       "      <td>0</td>\n",
       "      <td>0</td>\n",
       "      <td>0</td>\n",
       "    </tr>\n",
       "    <tr>\n",
       "      <th>Stanton Drew SW</th>\n",
       "      <td>1</td>\n",
       "      <td>0</td>\n",
       "      <td>0</td>\n",
       "      <td>0</td>\n",
       "      <td>0</td>\n",
       "      <td>1</td>\n",
       "      <td>0</td>\n",
       "      <td>0</td>\n",
       "      <td>0</td>\n",
       "      <td>0</td>\n",
       "      <td>...</td>\n",
       "      <td>0</td>\n",
       "      <td>0</td>\n",
       "      <td>0</td>\n",
       "      <td>0</td>\n",
       "      <td>0</td>\n",
       "      <td>0</td>\n",
       "      <td>0</td>\n",
       "      <td>1</td>\n",
       "      <td>0</td>\n",
       "      <td>0</td>\n",
       "    </tr>\n",
       "  </tbody>\n",
       "</table>\n",
       "<p>219 rows × 48 columns</p>\n",
       "</div>"
      ],
      "text/plain": [
       "                   standing stones/boulders  orthostats/boulders and bank  \\\n",
       "Name                                                                        \n",
       "Cerrig Pryfraid                           1                             0   \n",
       "Brankam Hill 2                            0                             0   \n",
       "Upper Auchnagorth                         1                             0   \n",
       "Abercross                                 1                             0   \n",
       "Achanarass Hill                           1                             0   \n",
       "...                                     ...                           ...   \n",
       "Lacra B                                   1                             0   \n",
       "Llacra D                                  1                             0   \n",
       "Sdtanton Drew                             1                             0   \n",
       "Stangton Drew NE                          1                             0   \n",
       "Stanton Drew SW                           1                             0   \n",
       "\n",
       "                   ditch and bank  bank   stones on or protrude from mound  \\\n",
       "Name                                                                         \n",
       "Cerrig Pryfraid                 0      0                                 0   \n",
       "Brankam Hill 2                  0      0                                 1   \n",
       "Upper Auchnagorth               0      0                                 0   \n",
       "Abercross                       0      0                                 0   \n",
       "Achanarass Hill                 0      0                                 0   \n",
       "...                           ...    ...                               ...   \n",
       "Lacra B                         0      0                                 0   \n",
       "Llacra D                        0      0                                 0   \n",
       "Sdtanton Drew                   0      0                                 0   \n",
       "Stangton Drew NE                0      0                                 0   \n",
       "Stanton Drew SW                 0      0                                 0   \n",
       "\n",
       "                   other, inc once below mound  regularly spaced  \\\n",
       "Name                                                               \n",
       "Cerrig Pryfraid                              0                 1   \n",
       "Brankam Hill 2                               0                 0   \n",
       "Upper Auchnagorth                            0                 1   \n",
       "Abercross                                    0                 1   \n",
       "Achanarass Hill                              0                 1   \n",
       "...                                        ...               ...   \n",
       "Lacra B                                      1                 0   \n",
       "Llacra D                                     1                 0   \n",
       "Sdtanton Drew                                1                 0   \n",
       "Stangton Drew NE                             1                 0   \n",
       "Stanton Drew SW                              1                 0   \n",
       "\n",
       "                   irregularly spaced  contiguoius  bank faced inside  ...  \\\n",
       "Name                                                                   ...   \n",
       "Cerrig Pryfraid                     0            0                  0  ...   \n",
       "Brankam Hill 2                      0            0                  0  ...   \n",
       "Upper Auchnagorth                   0            0                  0  ...   \n",
       "Abercross                           0            0                  0  ...   \n",
       "Achanarass Hill                     0            0                  0  ...   \n",
       "...                               ...          ...                ...  ...   \n",
       "Lacra B                             0            0                  0  ...   \n",
       "Llacra D                            0            0                  0  ...   \n",
       "Sdtanton Drew                       0            0                  0  ...   \n",
       "Stangton Drew NE                    0            0                  0  ...   \n",
       "Stanton Drew SW                     0            0                  0  ...   \n",
       "\n",
       "                   paired stones outside  avenue row  other.2  \\\n",
       "Name                                                            \n",
       "Cerrig Pryfraid                        0           0        0   \n",
       "Brankam Hill 2                         0           0        0   \n",
       "Upper Auchnagorth                      0           0        0   \n",
       "Abercross                              0           0        0   \n",
       "Achanarass Hill                        0           0        0   \n",
       "...                                  ...         ...      ...   \n",
       "Lacra B                                0           0        0   \n",
       "Llacra D                               0           1        0   \n",
       "Sdtanton Drew                          0           1        0   \n",
       "Stangton Drew NE                       0           1        0   \n",
       "Stanton Drew SW                        0           0        0   \n",
       "\n",
       "                   part of complex  other.3  diam 1  diam 2  diam 3  diam 4  \\\n",
       "Name                                                                          \n",
       "Cerrig Pryfraid                  0        0       1       0       0       0   \n",
       "Brankam Hill 2                   1        0       1       0       0       0   \n",
       "Upper Auchnagorth                0        0       1       0       0       0   \n",
       "Abercross                        0        0       1       0       0       0   \n",
       "Achanarass Hill                  0        0       1       0       0       0   \n",
       "...                            ...      ...     ...     ...     ...     ...   \n",
       "Lacra B                          0        0       1       0       0       0   \n",
       "Llacra D                         0        0       1       0       0       0   \n",
       "Sdtanton Drew                    0        0       0       0       0       1   \n",
       "Stangton Drew NE                 0        0       0       1       0       0   \n",
       "Stanton Drew SW                  0        0       0       0       1       0   \n",
       "\n",
       "                   Unnamed: 50  \n",
       "Name                            \n",
       "Cerrig Pryfraid              0  \n",
       "Brankam Hill 2               0  \n",
       "Upper Auchnagorth            0  \n",
       "Abercross                    0  \n",
       "Achanarass Hill              0  \n",
       "...                        ...  \n",
       "Lacra B                      0  \n",
       "Llacra D                     0  \n",
       "Sdtanton Drew                0  \n",
       "Stangton Drew NE             0  \n",
       "Stanton Drew SW              0  \n",
       "\n",
       "[219 rows x 48 columns]"
      ]
     },
     "execution_count": 2,
     "metadata": {},
     "output_type": "execute_result"
    }
   ],
   "source": [
    "excludes_sites = ['Boskednan,']\n",
    "excludes_features = ['other']\n",
    "\n",
    "df = pd.read_csv(\n",
    "    \"data_clean.csv\",\n",
    "    index_col=[1,0],\n",
    "    )\n",
    "df.index = df.index.droplevel(0)  # read it in with areas but then get rid of them for now\n",
    "df = df.fillna(0)\n",
    "df = df.replace(['y', 'Y', '?'], [1, 1, 0.5])\n",
    "df = df.astype(int)\n",
    "# df = df.sort_index()\n",
    "df.index = df.index.str.strip()\n",
    "df = df[~df.index.isin(excludes_sites)]\n",
    "df = df[df.columns[~df.columns.isin(excludes_features)]]\n",
    "df"
   ]
  },
  {
   "cell_type": "code",
   "execution_count": 3,
   "metadata": {},
   "outputs": [],
   "source": [
    "def plot_dendrogram_from_df(df, method):\n",
    "    X = df.values\n",
    "    Z = linkage(X, method=method)\n",
    "\n",
    "    c, coph_dists = cophenet(Z, pdist(X))\n",
    "\n",
    "    plt.figure(figsize=(10, 25))\n",
    "    plt.title(f'Hierarchical Clustering, {method} method\\ncophenet: {c:.2f}')\n",
    "    plt.xlabel('Distance')\n",
    "    plt.ylabel('Site')\n",
    "    dendrogram(\n",
    "        Z,\n",
    "        orientation='right',\n",
    "        leaf_font_size=8.,  # font size for the x axis labels,\n",
    "        labels=df.index,\n",
    "        truncate_mode='level',\n",
    "        # p=4\n",
    "    )\n",
    "    plt.savefig(f\"clustering - {method}.png\")\n",
    "    return Z"
   ]
  },
  {
   "cell_type": "code",
   "execution_count": 4,
   "metadata": {},
   "outputs": [
    {
     "data": {
      "image/png": "[encoded data removed]",
      "text/plain": [
       "<Figure size 1000x2500 with 1 Axes>"
      ]
     },
     "metadata": {},
     "output_type": "display_data"
    }
   ],
   "source": [
    "methods = [\n",
    "    # 'single',\n",
    "    # 'complete',\n",
    "    # 'average',\n",
    "    # 'weighted',\n",
    "    # 'centroid',\n",
    "    # 'median',\n",
    "    'ward'\n",
    "    ]\n",
    "\n",
    "linkages = {method: plot_dendrogram_from_df(df, method) for method in methods}"
   ]
  },
  {
   "cell_type": "code",
   "execution_count": 5,
   "metadata": {},
   "outputs": [
    {
     "data": {
      "application/vnd.plotly.v1+json": {
       "config": {
        "plotlyServerURL": "https://plot.ly"
       },
       "data": [
        {
         "coloraxis": "coloraxis",
         "hovertemplate": "x: %{x}<br>clusters: %{y}<br>color: %{z}<extra></extra>",
         "name": "0",
         "type": "heatmap",
         "x": [
          "standing stones/boulders",
          "orthostats/boulders and bank",
          "nothing in interior",
          "bank faced inside",
          "diam 1",
          "diam 2",
          "no perimeter focal point",
          "irregularly spaced",
          "stone circle insiode",
          "part of complex"
         ],
         "xaxis": "x",
         "y": [
          "1",
          "2",
          "3",
          "4"
         ],
         "yaxis": "y",
         "z": [
          [
           0,
           0.7631578947368421,
           0.5526315789473685,
           0.4473684210526316,
           0.9210526315789473,
           0.07894736842105263,
           0.5263157894736842,
           0.02631578947368421,
           0.05263157894736842,
           0.15789473684210525
          ],
          [
           0.9710144927536232,
           0,
           0.9710144927536232,
           0,
           0.9420289855072463,
           0,
           0.7246376811594203,
           0.014492753623188406,
           0,
           0.30434782608695654
          ],
          [
           0.8928571428571429,
           0.03571428571428571,
           0.6071428571428571,
           0,
           0.5,
           0.35714285714285715,
           0.25,
           0.23214285714285715,
           0,
           0.10714285714285714
          ],
          [
           0.7678571428571429,
           0,
           0,
           0,
           0.8392857142857143,
           0.05357142857142857,
           0.48214285714285715,
           0.03571428571428571,
           0.19642857142857142,
           0.44642857142857145
          ]
         ]
        }
       ],
       "layout": {
        "coloraxis": {
         "colorscale": [
          [
           0,
           "rgb(255,255,255)"
          ],
          [
           0.125,
           "rgb(240,240,240)"
          ],
          [
           0.25,
           "rgb(217,217,217)"
          ],
          [
           0.375,
           "rgb(189,189,189)"
          ],
          [
           0.5,
           "rgb(150,150,150)"
          ],
          [
           0.625,
           "rgb(115,115,115)"
          ],
          [
           0.75,
           "rgb(82,82,82)"
          ],
          [
           0.875,
           "rgb(37,37,37)"
          ],
          [
           1,
           "rgb(0,0,0)"
          ]
         ]
        },
        "margin": {
         "t": 60
        },
        "template": {
         "data": {
          "bar": [
           {
            "error_x": {
             "color": "#2a3f5f"
            },
            "error_y": {
             "color": "#2a3f5f"
            },
            "marker": {
             "line": {
              "color": "#E5ECF6",
              "width": 0.5
             },
             "pattern": {
              "fillmode": "overlay",
              "size": 10,
              "solidity": 0.2
             }
            },
            "type": "bar"
           }
          ],
          "barpolar": [
           {
            "marker": {
             "line": {
              "color": "#E5ECF6",
              "width": 0.5
             },
             "pattern": {
              "fillmode": "overlay",
              "size": 10,
              "solidity": 0.2
             }
            },
            "type": "barpolar"
           }
          ],
          "carpet": [
           {
            "aaxis": {
             "endlinecolor": "#2a3f5f",
             "gridcolor": "white",
             "linecolor": "white",
             "minorgridcolor": "white",
             "startlinecolor": "#2a3f5f"
            },
            "baxis": {
             "endlinecolor": "#2a3f5f",
             "gridcolor": "white",
             "linecolor": "white",
             "minorgridcolor": "white",
             "startlinecolor": "#2a3f5f"
            },
            "type": "carpet"
           }
          ],
          "choropleth": [
           {
            "colorbar": {
             "outlinewidth": 0,
             "ticks": ""
            },
            "type": "choropleth"
           }
          ],
          "contour": [
           {
            "colorbar": {
             "outlinewidth": 0,
             "ticks": ""
            },
            "colorscale": [
             [
              0,
              "#0d0887"
             ],
             [
              0.1111111111111111,
              "#46039f"
             ],
             [
              0.2222222222222222,
              "#7201a8"
             ],
             [
              0.3333333333333333,
              "#9c179e"
             ],
             [
              0.4444444444444444,
              "#bd3786"
             ],
             [
              0.5555555555555556,
              "#d8576b"
             ],
             [
              0.6666666666666666,
              "#ed7953"
             ],
             [
              0.7777777777777778,
              "#fb9f3a"
             ],
             [
              0.8888888888888888,
              "#fdca26"
             ],
             [
              1,
              "#f0f921"
             ]
            ],
            "type": "contour"
           }
          ],
          "contourcarpet": [
           {
            "colorbar": {
             "outlinewidth": 0,
             "ticks": ""
            },
            "type": "contourcarpet"
           }
          ],
          "heatmap": [
           {
            "colorbar": {
             "outlinewidth": 0,
             "ticks": ""
            },
            "colorscale": [
             [
              0,
              "#0d0887"
             ],
             [
              0.1111111111111111,
              "#46039f"
             ],
             [
              0.2222222222222222,
              "#7201a8"
             ],
             [
              0.3333333333333333,
              "#9c179e"
             ],
             [
              0.4444444444444444,
              "#bd3786"
             ],
             [
              0.5555555555555556,
              "#d8576b"
             ],
             [
              0.6666666666666666,
              "#ed7953"
             ],
             [
              0.7777777777777778,
              "#fb9f3a"
             ],
             [
              0.8888888888888888,
              "#fdca26"
             ],
             [
              1,
              "#f0f921"
             ]
            ],
            "type": "heatmap"
           }
          ],
          "heatmapgl": [
           {
            "colorbar": {
             "outlinewidth": 0,
             "ticks": ""
            },
            "colorscale": [
             [
              0,
              "#0d0887"
             ],
             [
              0.1111111111111111,
              "#46039f"
             ],
             [
              0.2222222222222222,
              "#7201a8"
             ],
             [
              0.3333333333333333,
              "#9c179e"
             ],
             [
              0.4444444444444444,
              "#bd3786"
             ],
             [
              0.5555555555555556,
              "#d8576b"
             ],
             [
              0.6666666666666666,
              "#ed7953"
             ],
             [
              0.7777777777777778,
              "#fb9f3a"
             ],
             [
              0.8888888888888888,
              "#fdca26"
             ],
             [
              1,
              "#f0f921"
             ]
            ],
            "type": "heatmapgl"
           }
          ],
          "histogram": [
           {
            "marker": {
             "pattern": {
              "fillmode": "overlay",
              "size": 10,
              "solidity": 0.2
             }
            },
            "type": "histogram"
           }
          ],
          "histogram2d": [
           {
            "colorbar": {
             "outlinewidth": 0,
             "ticks": ""
            },
            "colorscale": [
             [
              0,
              "#0d0887"
             ],
             [
              0.1111111111111111,
              "#46039f"
             ],
             [
              0.2222222222222222,
              "#7201a8"
             ],
             [
              0.3333333333333333,
              "#9c179e"
             ],
             [
              0.4444444444444444,
              "#bd3786"
             ],
             [
              0.5555555555555556,
              "#d8576b"
             ],
             [
              0.6666666666666666,
              "#ed7953"
             ],
             [
              0.7777777777777778,
              "#fb9f3a"
             ],
             [
              0.8888888888888888,
              "#fdca26"
             ],
             [
              1,
              "#f0f921"
             ]
            ],
            "type": "histogram2d"
           }
          ],
          "histogram2dcontour": [
           {
            "colorbar": {
             "outlinewidth": 0,
             "ticks": ""
            },
            "colorscale": [
             [
              0,
              "#0d0887"
             ],
             [
              0.1111111111111111,
              "#46039f"
             ],
             [
              0.2222222222222222,
              "#7201a8"
             ],
             [
              0.3333333333333333,
              "#9c179e"
             ],
             [
              0.4444444444444444,
              "#bd3786"
             ],
             [
              0.5555555555555556,
              "#d8576b"
             ],
             [
              0.6666666666666666,
              "#ed7953"
             ],
             [
              0.7777777777777778,
              "#fb9f3a"
             ],
             [
              0.8888888888888888,
              "#fdca26"
             ],
             [
              1,
              "#f0f921"
             ]
            ],
            "type": "histogram2dcontour"
           }
          ],
          "mesh3d": [
           {
            "colorbar": {
             "outlinewidth": 0,
             "ticks": ""
            },
            "type": "mesh3d"
           }
          ],
          "parcoords": [
           {
            "line": {
             "colorbar": {
              "outlinewidth": 0,
              "ticks": ""
             }
            },
            "type": "parcoords"
           }
          ],
          "pie": [
           {
            "automargin": true,
            "type": "pie"
           }
          ],
          "scatter": [
           {
            "fillpattern": {
             "fillmode": "overlay",
             "size": 10,
             "solidity": 0.2
            },
            "type": "scatter"
           }
          ],
          "scatter3d": [
           {
            "line": {
             "colorbar": {
              "outlinewidth": 0,
              "ticks": ""
             }
            },
            "marker": {
             "colorbar": {
              "outlinewidth": 0,
              "ticks": ""
             }
            },
            "type": "scatter3d"
           }
          ],
          "scattercarpet": [
           {
            "marker": {
             "colorbar": {
              "outlinewidth": 0,
              "ticks": ""
             }
            },
            "type": "scattercarpet"
           }
          ],
          "scattergeo": [
           {
            "marker": {
             "colorbar": {
              "outlinewidth": 0,
              "ticks": ""
             }
            },
            "type": "scattergeo"
           }
          ],
          "scattergl": [
           {
            "marker": {
             "colorbar": {
              "outlinewidth": 0,
              "ticks": ""
             }
            },
            "type": "scattergl"
           }
          ],
          "scattermapbox": [
           {
            "marker": {
             "colorbar": {
              "outlinewidth": 0,
              "ticks": ""
             }
            },
            "type": "scattermapbox"
           }
          ],
          "scatterpolar": [
           {
            "marker": {
             "colorbar": {
              "outlinewidth": 0,
              "ticks": ""
             }
            },
            "type": "scatterpolar"
           }
          ],
          "scatterpolargl": [
           {
            "marker": {
             "colorbar": {
              "outlinewidth": 0,
              "ticks": ""
             }
            },
            "type": "scatterpolargl"
           }
          ],
          "scatterternary": [
           {
            "marker": {
             "colorbar": {
              "outlinewidth": 0,
              "ticks": ""
             }
            },
            "type": "scatterternary"
           }
          ],
          "surface": [
           {
            "colorbar": {
             "outlinewidth": 0,
             "ticks": ""
            },
            "colorscale": [
             [
              0,
              "#0d0887"
             ],
             [
              0.1111111111111111,
              "#46039f"
             ],
             [
              0.2222222222222222,
              "#7201a8"
             ],
             [
              0.3333333333333333,
              "#9c179e"
             ],
             [
              0.4444444444444444,
              "#bd3786"
             ],
             [
              0.5555555555555556,
              "#d8576b"
             ],
             [
              0.6666666666666666,
              "#ed7953"
             ],
             [
              0.7777777777777778,
              "#fb9f3a"
             ],
             [
              0.8888888888888888,
              "#fdca26"
             ],
             [
              1,
              "#f0f921"
             ]
            ],
            "type": "surface"
           }
          ],
          "table": [
           {
            "cells": {
             "fill": {
              "color": "#EBF0F8"
             },
             "line": {
              "color": "white"
             }
            },
            "header": {
             "fill": {
              "color": "#C8D4E3"
             },
             "line": {
              "color": "white"
             }
            },
            "type": "table"
           }
          ]
         },
         "layout": {
          "annotationdefaults": {
           "arrowcolor": "#2a3f5f",
           "arrowhead": 0,
           "arrowwidth": 1
          },
          "autotypenumbers": "strict",
          "coloraxis": {
           "colorbar": {
            "outlinewidth": 0,
            "ticks": ""
           }
          },
          "colorscale": {
           "diverging": [
            [
             0,
             "#8e0152"
            ],
            [
             0.1,
             "#c51b7d"
            ],
            [
             0.2,
             "#de77ae"
            ],
            [
             0.3,
             "#f1b6da"
            ],
            [
             0.4,
             "#fde0ef"
            ],
            [
             0.5,
             "#f7f7f7"
            ],
            [
             0.6,
             "#e6f5d0"
            ],
            [
             0.7,
             "#b8e186"
            ],
            [
             0.8,
             "#7fbc41"
            ],
            [
             0.9,
             "#4d9221"
            ],
            [
             1,
             "#276419"
            ]
           ],
           "sequential": [
            [
             0,
             "#0d0887"
            ],
            [
             0.1111111111111111,
             "#46039f"
            ],
            [
             0.2222222222222222,
             "#7201a8"
            ],
            [
             0.3333333333333333,
             "#9c179e"
            ],
            [
             0.4444444444444444,
             "#bd3786"
            ],
            [
             0.5555555555555556,
             "#d8576b"
            ],
            [
             0.6666666666666666,
             "#ed7953"
            ],
            [
             0.7777777777777778,
             "#fb9f3a"
            ],
            [
             0.8888888888888888,
             "#fdca26"
            ],
            [
             1,
             "#f0f921"
            ]
           ],
           "sequentialminus": [
            [
             0,
             "#0d0887"
            ],
            [
             0.1111111111111111,
             "#46039f"
            ],
            [
             0.2222222222222222,
             "#7201a8"
            ],
            [
             0.3333333333333333,
             "#9c179e"
            ],
            [
             0.4444444444444444,
             "#bd3786"
            ],
            [
             0.5555555555555556,
             "#d8576b"
            ],
            [
             0.6666666666666666,
             "#ed7953"
            ],
            [
             0.7777777777777778,
             "#fb9f3a"
            ],
            [
             0.8888888888888888,
             "#fdca26"
            ],
            [
             1,
             "#f0f921"
            ]
           ]
          },
          "colorway": [
           "#636efa",
           "#EF553B",
           "#00cc96",
           "#ab63fa",
           "#FFA15A",
           "#19d3f3",
           "#FF6692",
           "#B6E880",
           "#FF97FF",
           "#FECB52"
          ],
          "font": {
           "color": "#2a3f5f"
          },
          "geo": {
           "bgcolor": "white",
           "lakecolor": "white",
           "landcolor": "#E5ECF6",
           "showlakes": true,
           "showland": true,
           "subunitcolor": "white"
          },
          "hoverlabel": {
           "align": "left"
          },
          "hovermode": "closest",
          "mapbox": {
           "style": "light"
          },
          "paper_bgcolor": "white",
          "plot_bgcolor": "#E5ECF6",
          "polar": {
           "angularaxis": {
            "gridcolor": "white",
            "linecolor": "white",
            "ticks": ""
           },
           "bgcolor": "#E5ECF6",
           "radialaxis": {
            "gridcolor": "white",
            "linecolor": "white",
            "ticks": ""
           }
          },
          "scene": {
           "xaxis": {
            "backgroundcolor": "#E5ECF6",
            "gridcolor": "white",
            "gridwidth": 2,
            "linecolor": "white",
            "showbackground": true,
            "ticks": "",
            "zerolinecolor": "white"
           },
           "yaxis": {
            "backgroundcolor": "#E5ECF6",
            "gridcolor": "white",
            "gridwidth": 2,
            "linecolor": "white",
            "showbackground": true,
            "ticks": "",
            "zerolinecolor": "white"
           },
           "zaxis": {
            "backgroundcolor": "#E5ECF6",
            "gridcolor": "white",
            "gridwidth": 2,
            "linecolor": "white",
            "showbackground": true,
            "ticks": "",
            "zerolinecolor": "white"
           }
          },
          "shapedefaults": {
           "line": {
            "color": "#2a3f5f"
           }
          },
          "ternary": {
           "aaxis": {
            "gridcolor": "white",
            "linecolor": "white",
            "ticks": ""
           },
           "baxis": {
            "gridcolor": "white",
            "linecolor": "white",
            "ticks": ""
           },
           "bgcolor": "#E5ECF6",
           "caxis": {
            "gridcolor": "white",
            "linecolor": "white",
            "ticks": ""
           }
          },
          "title": {
           "x": 0.05
          },
          "xaxis": {
           "automargin": true,
           "gridcolor": "white",
           "linecolor": "white",
           "ticks": "",
           "title": {
            "standoff": 15
           },
           "zerolinecolor": "white",
           "zerolinewidth": 2
          },
          "yaxis": {
           "automargin": true,
           "gridcolor": "white",
           "linecolor": "white",
           "ticks": "",
           "title": {
            "standoff": 15
           },
           "zerolinecolor": "white",
           "zerolinewidth": 2
          }
         }
        },
        "title": {
         "text": "Average value in cluster"
        },
        "xaxis": {
         "anchor": "y",
         "constrain": "domain",
         "domain": [
          0,
          1
         ],
         "scaleanchor": "y"
        },
        "yaxis": {
         "anchor": "x",
         "autorange": "reversed",
         "constrain": "domain",
         "domain": [
          0,
          1
         ],
         "title": {
          "text": "clusters"
         }
        }
       }
      }
     },
     "metadata": {},
     "output_type": "display_data"
    },
    {
     "data": {
      "application/vnd.plotly.v1+json": {
       "config": {
        "plotlyServerURL": "https://plot.ly"
       },
       "data": [
        {
         "coloraxis": "coloraxis",
         "hovertemplate": "x: %{x}<br>clusters: %{y}<br>color: %{z}<extra></extra>",
         "name": "0",
         "type": "heatmap",
         "x": [
          "standing stones/boulders",
          "orthostats/boulders and bank",
          "nothing in interior",
          "bank faced inside",
          "diam 1",
          "diam 2",
          "no perimeter focal point",
          "irregularly spaced",
          "stone circle insiode",
          "part of complex"
         ],
         "xaxis": "x",
         "y": [
          "1",
          "2",
          "3",
          "4"
         ],
         "yaxis": "y",
         "z": [
          [
           0.7678571428571429,
           0.7274436090225564,
           0.05451127819548862,
           0.4473684210526316,
           0.020976353928298996,
           0.02537593984962406,
           0.04417293233082703,
           0.009398496240601503,
           0.05263157894736842,
           0.05075187969924812
          ],
          [
           0.07815734989648027,
           0,
           0.3638716356107661,
           0,
           0.020976353928298996,
           0.05357142857142857,
           0.1983218916857361,
           0.011823035850495803,
           0,
           0.1420807453416149
          ],
          [
           0.07815734989648027,
           0.03571428571428571,
           0.05451127819548862,
           0,
           0.3392857142857143,
           0.27819548872180455,
           0.23214285714285715,
           0.19642857142857145,
           0,
           0.05075187969924812
          ],
          [
           0.125,
           0,
           0.5526315789473685,
           0,
           0.08176691729323304,
           0.02537593984962406,
           0.04417293233082703,
           0.009398496240601503,
           0.143796992481203,
           0.1420807453416149
          ]
         ]
        }
       ],
       "layout": {
        "coloraxis": {
         "colorscale": [
          [
           0,
           "rgb(255,255,255)"
          ],
          [
           0.125,
           "rgb(240,240,240)"
          ],
          [
           0.25,
           "rgb(217,217,217)"
          ],
          [
           0.375,
           "rgb(189,189,189)"
          ],
          [
           0.5,
           "rgb(150,150,150)"
          ],
          [
           0.625,
           "rgb(115,115,115)"
          ],
          [
           0.75,
           "rgb(82,82,82)"
          ],
          [
           0.875,
           "rgb(37,37,37)"
          ],
          [
           1,
           "rgb(0,0,0)"
          ]
         ]
        },
        "margin": {
         "t": 60
        },
        "template": {
         "data": {
          "bar": [
           {
            "error_x": {
             "color": "#2a3f5f"
            },
            "error_y": {
             "color": "#2a3f5f"
            },
            "marker": {
             "line": {
              "color": "#E5ECF6",
              "width": 0.5
             },
             "pattern": {
              "fillmode": "overlay",
              "size": 10,
              "solidity": 0.2
             }
            },
            "type": "bar"
           }
          ],
          "barpolar": [
           {
            "marker": {
             "line": {
              "color": "#E5ECF6",
              "width": 0.5
             },
             "pattern": {
              "fillmode": "overlay",
              "size": 10,
              "solidity": 0.2
             }
            },
            "type": "barpolar"
           }
          ],
          "carpet": [
           {
            "aaxis": {
             "endlinecolor": "#2a3f5f",
             "gridcolor": "white",
             "linecolor": "white",
             "minorgridcolor": "white",
             "startlinecolor": "#2a3f5f"
            },
            "baxis": {
             "endlinecolor": "#2a3f5f",
             "gridcolor": "white",
             "linecolor": "white",
             "minorgridcolor": "white",
             "startlinecolor": "#2a3f5f"
            },
            "type": "carpet"
           }
          ],
          "choropleth": [
           {
            "colorbar": {
             "outlinewidth": 0,
             "ticks": ""
            },
            "type": "choropleth"
           }
          ],
          "contour": [
           {
            "colorbar": {
             "outlinewidth": 0,
             "ticks": ""
            },
            "colorscale": [
             [
              0,
              "#0d0887"
             ],
             [
              0.1111111111111111,
              "#46039f"
             ],
             [
              0.2222222222222222,
              "#7201a8"
             ],
             [
              0.3333333333333333,
              "#9c179e"
             ],
             [
              0.4444444444444444,
              "#bd3786"
             ],
             [
              0.5555555555555556,
              "#d8576b"
             ],
             [
              0.6666666666666666,
              "#ed7953"
             ],
             [
              0.7777777777777778,
              "#fb9f3a"
             ],
             [
              0.8888888888888888,
              "#fdca26"
             ],
             [
              1,
              "#f0f921"
             ]
            ],
            "type": "contour"
           }
          ],
          "contourcarpet": [
           {
            "colorbar": {
             "outlinewidth": 0,
             "ticks": ""
            },
            "type": "contourcarpet"
           }
          ],
          "heatmap": [
           {
            "colorbar": {
             "outlinewidth": 0,
             "ticks": ""
            },
            "colorscale": [
             [
              0,
              "#0d0887"
             ],
             [
              0.1111111111111111,
              "#46039f"
             ],
             [
              0.2222222222222222,
              "#7201a8"
             ],
             [
              0.3333333333333333,
              "#9c179e"
             ],
             [
              0.4444444444444444,
              "#bd3786"
             ],
             [
              0.5555555555555556,
              "#d8576b"
             ],
             [
              0.6666666666666666,
              "#ed7953"
             ],
             [
              0.7777777777777778,
              "#fb9f3a"
             ],
             [
              0.8888888888888888,
              "#fdca26"
             ],
             [
              1,
              "#f0f921"
             ]
            ],
            "type": "heatmap"
           }
          ],
          "heatmapgl": [
           {
            "colorbar": {
             "outlinewidth": 0,
             "ticks": ""
            },
            "colorscale": [
             [
              0,
              "#0d0887"
             ],
             [
              0.1111111111111111,
              "#46039f"
             ],
             [
              0.2222222222222222,
              "#7201a8"
             ],
             [
              0.3333333333333333,
              "#9c179e"
             ],
             [
              0.4444444444444444,
              "#bd3786"
             ],
             [
              0.5555555555555556,
              "#d8576b"
             ],
             [
              0.6666666666666666,
              "#ed7953"
             ],
             [
              0.7777777777777778,
              "#fb9f3a"
             ],
             [
              0.8888888888888888,
              "#fdca26"
             ],
             [
              1,
              "#f0f921"
             ]
            ],
            "type": "heatmapgl"
           }
          ],
          "histogram": [
           {
            "marker": {
             "pattern": {
              "fillmode": "overlay",
              "size": 10,
              "solidity": 0.2
             }
            },
            "type": "histogram"
           }
          ],
          "histogram2d": [
           {
            "colorbar": {
             "outlinewidth": 0,
             "ticks": ""
            },
            "colorscale": [
             [
              0,
              "#0d0887"
             ],
             [
              0.1111111111111111,
              "#46039f"
             ],
             [
              0.2222222222222222,
              "#7201a8"
             ],
             [
              0.3333333333333333,
              "#9c179e"
             ],
             [
              0.4444444444444444,
              "#bd3786"
             ],
             [
              0.5555555555555556,
              "#d8576b"
             ],
             [
              0.6666666666666666,
              "#ed7953"
             ],
             [
              0.7777777777777778,
              "#fb9f3a"
             ],
             [
              0.8888888888888888,
              "#fdca26"
             ],
             [
              1,
              "#f0f921"
             ]
            ],
            "type": "histogram2d"
           }
          ],
          "histogram2dcontour": [
           {
            "colorbar": {
             "outlinewidth": 0,
             "ticks": ""
            },
            "colorscale": [
             [
              0,
              "#0d0887"
             ],
             [
              0.1111111111111111,
              "#46039f"
             ],
             [
              0.2222222222222222,
              "#7201a8"
             ],
             [
              0.3333333333333333,
              "#9c179e"
             ],
             [
              0.4444444444444444,
              "#bd3786"
             ],
             [
              0.5555555555555556,
              "#d8576b"
             ],
             [
              0.6666666666666666,
              "#ed7953"
             ],
             [
              0.7777777777777778,
              "#fb9f3a"
             ],
             [
              0.8888888888888888,
              "#fdca26"
             ],
             [
              1,
              "#f0f921"
             ]
            ],
            "type": "histogram2dcontour"
           }
          ],
          "mesh3d": [
           {
            "colorbar": {
             "outlinewidth": 0,
             "ticks": ""
            },
            "type": "mesh3d"
           }
          ],
          "parcoords": [
           {
            "line": {
             "colorbar": {
              "outlinewidth": 0,
              "ticks": ""
             }
            },
            "type": "parcoords"
           }
          ],
          "pie": [
           {
            "automargin": true,
            "type": "pie"
           }
          ],
          "scatter": [
           {
            "fillpattern": {
             "fillmode": "overlay",
             "size": 10,
             "solidity": 0.2
            },
            "type": "scatter"
           }
          ],
          "scatter3d": [
           {
            "line": {
             "colorbar": {
              "outlinewidth": 0,
              "ticks": ""
             }
            },
            "marker": {
             "colorbar": {
              "outlinewidth": 0,
              "ticks": ""
             }
            },
            "type": "scatter3d"
           }
          ],
          "scattercarpet": [
           {
            "marker": {
             "colorbar": {
              "outlinewidth": 0,
              "ticks": ""
             }
            },
            "type": "scattercarpet"
           }
          ],
          "scattergeo": [
           {
            "marker": {
             "colorbar": {
              "outlinewidth": 0,
              "ticks": ""
             }
            },
            "type": "scattergeo"
           }
          ],
          "scattergl": [
           {
            "marker": {
             "colorbar": {
              "outlinewidth": 0,
              "ticks": ""
             }
            },
            "type": "scattergl"
           }
          ],
          "scattermapbox": [
           {
            "marker": {
             "colorbar": {
              "outlinewidth": 0,
              "ticks": ""
             }
            },
            "type": "scattermapbox"
           }
          ],
          "scatterpolar": [
           {
            "marker": {
             "colorbar": {
              "outlinewidth": 0,
              "ticks": ""
             }
            },
            "type": "scatterpolar"
           }
          ],
          "scatterpolargl": [
           {
            "marker": {
             "colorbar": {
              "outlinewidth": 0,
              "ticks": ""
             }
            },
            "type": "scatterpolargl"
           }
          ],
          "scatterternary": [
           {
            "marker": {
             "colorbar": {
              "outlinewidth": 0,
              "ticks": ""
             }
            },
            "type": "scatterternary"
           }
          ],
          "surface": [
           {
            "colorbar": {
             "outlinewidth": 0,
             "ticks": ""
            },
            "colorscale": [
             [
              0,
              "#0d0887"
             ],
             [
              0.1111111111111111,
              "#46039f"
             ],
             [
              0.2222222222222222,
              "#7201a8"
             ],
             [
              0.3333333333333333,
              "#9c179e"
             ],
             [
              0.4444444444444444,
              "#bd3786"
             ],
             [
              0.5555555555555556,
              "#d8576b"
             ],
             [
              0.6666666666666666,
              "#ed7953"
             ],
             [
              0.7777777777777778,
              "#fb9f3a"
             ],
             [
              0.8888888888888888,
              "#fdca26"
             ],
             [
              1,
              "#f0f921"
             ]
            ],
            "type": "surface"
           }
          ],
          "table": [
           {
            "cells": {
             "fill": {
              "color": "#EBF0F8"
             },
             "line": {
              "color": "white"
             }
            },
            "header": {
             "fill": {
              "color": "#C8D4E3"
             },
             "line": {
              "color": "white"
             }
            },
            "type": "table"
           }
          ]
         },
         "layout": {
          "annotationdefaults": {
           "arrowcolor": "#2a3f5f",
           "arrowhead": 0,
           "arrowwidth": 1
          },
          "autotypenumbers": "strict",
          "coloraxis": {
           "colorbar": {
            "outlinewidth": 0,
            "ticks": ""
           }
          },
          "colorscale": {
           "diverging": [
            [
             0,
             "#8e0152"
            ],
            [
             0.1,
             "#c51b7d"
            ],
            [
             0.2,
             "#de77ae"
            ],
            [
             0.3,
             "#f1b6da"
            ],
            [
             0.4,
             "#fde0ef"
            ],
            [
             0.5,
             "#f7f7f7"
            ],
            [
             0.6,
             "#e6f5d0"
            ],
            [
             0.7,
             "#b8e186"
            ],
            [
             0.8,
             "#7fbc41"
            ],
            [
             0.9,
             "#4d9221"
            ],
            [
             1,
             "#276419"
            ]
           ],
           "sequential": [
            [
             0,
             "#0d0887"
            ],
            [
             0.1111111111111111,
             "#46039f"
            ],
            [
             0.2222222222222222,
             "#7201a8"
            ],
            [
             0.3333333333333333,
             "#9c179e"
            ],
            [
             0.4444444444444444,
             "#bd3786"
            ],
            [
             0.5555555555555556,
             "#d8576b"
            ],
            [
             0.6666666666666666,
             "#ed7953"
            ],
            [
             0.7777777777777778,
             "#fb9f3a"
            ],
            [
             0.8888888888888888,
             "#fdca26"
            ],
            [
             1,
             "#f0f921"
            ]
           ],
           "sequentialminus": [
            [
             0,
             "#0d0887"
            ],
            [
             0.1111111111111111,
             "#46039f"
            ],
            [
             0.2222222222222222,
             "#7201a8"
            ],
            [
             0.3333333333333333,
             "#9c179e"
            ],
            [
             0.4444444444444444,
             "#bd3786"
            ],
            [
             0.5555555555555556,
             "#d8576b"
            ],
            [
             0.6666666666666666,
             "#ed7953"
            ],
            [
             0.7777777777777778,
             "#fb9f3a"
            ],
            [
             0.8888888888888888,
             "#fdca26"
            ],
            [
             1,
             "#f0f921"
            ]
           ]
          },
          "colorway": [
           "#636efa",
           "#EF553B",
           "#00cc96",
           "#ab63fa",
           "#FFA15A",
           "#19d3f3",
           "#FF6692",
           "#B6E880",
           "#FF97FF",
           "#FECB52"
          ],
          "font": {
           "color": "#2a3f5f"
          },
          "geo": {
           "bgcolor": "white",
           "lakecolor": "white",
           "landcolor": "#E5ECF6",
           "showlakes": true,
           "showland": true,
           "subunitcolor": "white"
          },
          "hoverlabel": {
           "align": "left"
          },
          "hovermode": "closest",
          "mapbox": {
           "style": "light"
          },
          "paper_bgcolor": "white",
          "plot_bgcolor": "#E5ECF6",
          "polar": {
           "angularaxis": {
            "gridcolor": "white",
            "linecolor": "white",
            "ticks": ""
           },
           "bgcolor": "#E5ECF6",
           "radialaxis": {
            "gridcolor": "white",
            "linecolor": "white",
            "ticks": ""
           }
          },
          "scene": {
           "xaxis": {
            "backgroundcolor": "#E5ECF6",
            "gridcolor": "white",
            "gridwidth": 2,
            "linecolor": "white",
            "showbackground": true,
            "ticks": "",
            "zerolinecolor": "white"
           },
           "yaxis": {
            "backgroundcolor": "#E5ECF6",
            "gridcolor": "white",
            "gridwidth": 2,
            "linecolor": "white",
            "showbackground": true,
            "ticks": "",
            "zerolinecolor": "white"
           },
           "zaxis": {
            "backgroundcolor": "#E5ECF6",
            "gridcolor": "white",
            "gridwidth": 2,
            "linecolor": "white",
            "showbackground": true,
            "ticks": "",
            "zerolinecolor": "white"
           }
          },
          "shapedefaults": {
           "line": {
            "color": "#2a3f5f"
           }
          },
          "ternary": {
           "aaxis": {
            "gridcolor": "white",
            "linecolor": "white",
            "ticks": ""
           },
           "baxis": {
            "gridcolor": "white",
            "linecolor": "white",
            "ticks": ""
           },
           "bgcolor": "#E5ECF6",
           "caxis": {
            "gridcolor": "white",
            "linecolor": "white",
            "ticks": ""
           }
          },
          "title": {
           "x": 0.05
          },
          "xaxis": {
           "automargin": true,
           "gridcolor": "white",
           "linecolor": "white",
           "ticks": "",
           "title": {
            "standoff": 15
           },
           "zerolinecolor": "white",
           "zerolinewidth": 2
          },
          "yaxis": {
           "automargin": true,
           "gridcolor": "white",
           "linecolor": "white",
           "ticks": "",
           "title": {
            "standoff": 15
           },
           "zerolinecolor": "white",
           "zerolinewidth": 2
          }
         }
        },
        "title": {
         "text": "Difference metric"
        },
        "xaxis": {
         "anchor": "y",
         "constrain": "domain",
         "domain": [
          0,
          1
         ],
         "scaleanchor": "y"
        },
        "yaxis": {
         "anchor": "x",
         "autorange": "reversed",
         "constrain": "domain",
         "domain": [
          0,
          1
         ],
         "title": {
          "text": "clusters"
         }
        }
       }
      }
     },
     "metadata": {},
     "output_type": "display_data"
    }
   ],
   "source": [
    "n_clusters = 4\n",
    "n_features = 10\n",
    "\n",
    "L = linkages['ward']\n",
    "df['clusters'] = fcluster(L, n_clusters, criterion='maxclust')\n",
    "df.clusters = df.clusters.astype(str)  # for categorical plot labels\n",
    "\n",
    "cluster_values = df.groupby('clusters').mean()\n",
    "\n",
    "# compute difference metric\n",
    "cluster_diffs = cluster_values.apply(lambda row: abs(cluster_values.iloc[cluster_values.index != row.name] - row).min(), axis=1)\n",
    "\n",
    "# get top 10 columns by highest difference metric\n",
    "col_order = cluster_diffs.max().T.sort_values(ascending=False).index\n",
    "col_order = col_order[:n_features]\n",
    "\n",
    "# reorder by value for cluster\n",
    "# group_data = group_data[col_order]\n",
    "# col_order = group_data.T.sort_values(by=['1'], ascending=False).index\n",
    "cluster_diffs = cluster_diffs[col_order]\n",
    "cluster_values = cluster_values[col_order]\n",
    "\n",
    "fig = px.imshow(cluster_values, color_continuous_scale='greys')\n",
    "fig.update_layout(title='Average value in cluster')\n",
    "fig.show()\n",
    "fig = px.imshow(cluster_diffs, color_continuous_scale='greys')\n",
    "fig.update_layout(title='Difference metric')\n",
    "fig.show()"
   ]
  },
  {
   "cell_type": "code",
   "execution_count": 6,
   "metadata": {},
   "outputs": [
    {
     "name": "stdout",
     "output_type": "stream",
     "text": [
      "1\n",
      "    has: orthostats/boulders and bank\n",
      "    doesn't have: standing stones/boulders, bank faced inside\n",
      "2\n",
      "    has: nothing in interior, no perimeter focal point\n",
      "    doesn't have: part of complex\n",
      "3\n",
      "    doesn't have: diam 2, no perimeter focal point, irregularly spaced\n",
      "4\n",
      "    has: standing stones/boulders\n",
      "    doesn't have: nothing in interior, stone circle insiode, part of complex\n"
     ]
    }
   ],
   "source": [
    "diff_mask = cluster_diffs > 0.1\n",
    "cluster_values_masked = cluster_values.mask(~diff_mask, np.nan)\n",
    "\n",
    "for i, row in cluster_values_masked.iterrows():\n",
    "    print(i)\n",
    "    has = ', '.join(row.index[row > 0.5])\n",
    "    hasnt = ', '.join(row.index[row < 0.5])\n",
    "    if len(has):\n",
    "        print(f\"    has: {has}\")\n",
    "    if len(hasnt):\n",
    "        print(f\"    doesn't have: {hasnt}\")\n",
    "    "
   ]
  },
  {
   "cell_type": "code",
   "execution_count": 7,
   "metadata": {},
   "outputs": [
    {
     "data": {
      "text/html": [
       "<div>\n",
       "<style scoped>\n",
       "    .dataframe tbody tr th:only-of-type {\n",
       "        vertical-align: middle;\n",
       "    }\n",
       "\n",
       "    .dataframe tbody tr th {\n",
       "        vertical-align: top;\n",
       "    }\n",
       "\n",
       "    .dataframe thead th {\n",
       "        text-align: right;\n",
       "    }\n",
       "</style>\n",
       "<table border=\"1\" class=\"dataframe\">\n",
       "  <thead>\n",
       "    <tr style=\"text-align: right;\">\n",
       "      <th></th>\n",
       "      <th>standing stones/boulders</th>\n",
       "      <th>orthostats/boulders and bank</th>\n",
       "      <th>ditch and bank</th>\n",
       "      <th>bank</th>\n",
       "      <th>stones on or protrude from mound</th>\n",
       "      <th>other, inc once below mound</th>\n",
       "      <th>regularly spaced</th>\n",
       "      <th>irregularly spaced</th>\n",
       "      <th>contiguoius</th>\n",
       "      <th>bank faced inside</th>\n",
       "      <th>...</th>\n",
       "      <th>other.3</th>\n",
       "      <th>diam 1</th>\n",
       "      <th>diam 2</th>\n",
       "      <th>diam 3</th>\n",
       "      <th>diam 4</th>\n",
       "      <th>Unnamed: 50</th>\n",
       "      <th>clusters</th>\n",
       "      <th>Gridref</th>\n",
       "      <th>latitude</th>\n",
       "      <th>longitude</th>\n",
       "    </tr>\n",
       "    <tr>\n",
       "      <th>Name</th>\n",
       "      <th></th>\n",
       "      <th></th>\n",
       "      <th></th>\n",
       "      <th></th>\n",
       "      <th></th>\n",
       "      <th></th>\n",
       "      <th></th>\n",
       "      <th></th>\n",
       "      <th></th>\n",
       "      <th></th>\n",
       "      <th></th>\n",
       "      <th></th>\n",
       "      <th></th>\n",
       "      <th></th>\n",
       "      <th></th>\n",
       "      <th></th>\n",
       "      <th></th>\n",
       "      <th></th>\n",
       "      <th></th>\n",
       "      <th></th>\n",
       "      <th></th>\n",
       "    </tr>\n",
       "  </thead>\n",
       "  <tbody>\n",
       "    <tr>\n",
       "      <th>Abercross</th>\n",
       "      <td>1</td>\n",
       "      <td>0</td>\n",
       "      <td>0</td>\n",
       "      <td>0</td>\n",
       "      <td>0</td>\n",
       "      <td>0</td>\n",
       "      <td>1</td>\n",
       "      <td>0</td>\n",
       "      <td>0</td>\n",
       "      <td>0</td>\n",
       "      <td>...</td>\n",
       "      <td>0</td>\n",
       "      <td>1</td>\n",
       "      <td>0</td>\n",
       "      <td>0</td>\n",
       "      <td>0</td>\n",
       "      <td>0</td>\n",
       "      <td>2</td>\n",
       "      <td>NH771990</td>\n",
       "      <td>57.963262</td>\n",
       "      <td>-4.079653</td>\n",
       "    </tr>\n",
       "    <tr>\n",
       "      <th>Achanarass Hill</th>\n",
       "      <td>1</td>\n",
       "      <td>0</td>\n",
       "      <td>0</td>\n",
       "      <td>0</td>\n",
       "      <td>0</td>\n",
       "      <td>0</td>\n",
       "      <td>1</td>\n",
       "      <td>0</td>\n",
       "      <td>0</td>\n",
       "      <td>0</td>\n",
       "      <td>...</td>\n",
       "      <td>0</td>\n",
       "      <td>1</td>\n",
       "      <td>0</td>\n",
       "      <td>0</td>\n",
       "      <td>0</td>\n",
       "      <td>0</td>\n",
       "      <td>2</td>\n",
       "      <td>ND145552</td>\n",
       "      <td>58.476620</td>\n",
       "      <td>-3.468011</td>\n",
       "    </tr>\n",
       "    <tr>\n",
       "      <th>Acharn Falls</th>\n",
       "      <td>1</td>\n",
       "      <td>0</td>\n",
       "      <td>0</td>\n",
       "      <td>0</td>\n",
       "      <td>0</td>\n",
       "      <td>0</td>\n",
       "      <td>1</td>\n",
       "      <td>0</td>\n",
       "      <td>0</td>\n",
       "      <td>0</td>\n",
       "      <td>...</td>\n",
       "      <td>0</td>\n",
       "      <td>1</td>\n",
       "      <td>0</td>\n",
       "      <td>0</td>\n",
       "      <td>0</td>\n",
       "      <td>0</td>\n",
       "      <td>4</td>\n",
       "      <td>NN767427</td>\n",
       "      <td>56.560029</td>\n",
       "      <td>-4.008468</td>\n",
       "    </tr>\n",
       "    <tr>\n",
       "      <th>Airich</th>\n",
       "      <td>0</td>\n",
       "      <td>1</td>\n",
       "      <td>0</td>\n",
       "      <td>0</td>\n",
       "      <td>0</td>\n",
       "      <td>0</td>\n",
       "      <td>0</td>\n",
       "      <td>1</td>\n",
       "      <td>0</td>\n",
       "      <td>0</td>\n",
       "      <td>...</td>\n",
       "      <td>0</td>\n",
       "      <td>1</td>\n",
       "      <td>0</td>\n",
       "      <td>0</td>\n",
       "      <td>0</td>\n",
       "      <td>0</td>\n",
       "      <td>3</td>\n",
       "      <td>NN959386</td>\n",
       "      <td>56.527862</td>\n",
       "      <td>-3.694323</td>\n",
       "    </tr>\n",
       "    <tr>\n",
       "      <th>Appletreewick</th>\n",
       "      <td>1</td>\n",
       "      <td>0</td>\n",
       "      <td>0</td>\n",
       "      <td>0</td>\n",
       "      <td>0</td>\n",
       "      <td>0</td>\n",
       "      <td>1</td>\n",
       "      <td>0</td>\n",
       "      <td>0</td>\n",
       "      <td>0</td>\n",
       "      <td>...</td>\n",
       "      <td>0</td>\n",
       "      <td>1</td>\n",
       "      <td>0</td>\n",
       "      <td>0</td>\n",
       "      <td>0</td>\n",
       "      <td>0</td>\n",
       "      <td>2</td>\n",
       "      <td>SK065632</td>\n",
       "      <td>53.165884</td>\n",
       "      <td>-1.904230</td>\n",
       "    </tr>\n",
       "    <tr>\n",
       "      <th>...</th>\n",
       "      <td>...</td>\n",
       "      <td>...</td>\n",
       "      <td>...</td>\n",
       "      <td>...</td>\n",
       "      <td>...</td>\n",
       "      <td>...</td>\n",
       "      <td>...</td>\n",
       "      <td>...</td>\n",
       "      <td>...</td>\n",
       "      <td>...</td>\n",
       "      <td>...</td>\n",
       "      <td>...</td>\n",
       "      <td>...</td>\n",
       "      <td>...</td>\n",
       "      <td>...</td>\n",
       "      <td>...</td>\n",
       "      <td>...</td>\n",
       "      <td>...</td>\n",
       "      <td>...</td>\n",
       "      <td>...</td>\n",
       "      <td>...</td>\n",
       "    </tr>\n",
       "    <tr>\n",
       "      <th>White Moss NE</th>\n",
       "      <td>1</td>\n",
       "      <td>0</td>\n",
       "      <td>0</td>\n",
       "      <td>0</td>\n",
       "      <td>0</td>\n",
       "      <td>0</td>\n",
       "      <td>1</td>\n",
       "      <td>0</td>\n",
       "      <td>0</td>\n",
       "      <td>0</td>\n",
       "      <td>...</td>\n",
       "      <td>0</td>\n",
       "      <td>1</td>\n",
       "      <td>0</td>\n",
       "      <td>0</td>\n",
       "      <td>0</td>\n",
       "      <td>0</td>\n",
       "      <td>4</td>\n",
       "      <td>NY172024</td>\n",
       "      <td>54.410291</td>\n",
       "      <td>-3.277416</td>\n",
       "    </tr>\n",
       "    <tr>\n",
       "      <th>White Moss NW</th>\n",
       "      <td>1</td>\n",
       "      <td>0</td>\n",
       "      <td>0</td>\n",
       "      <td>0</td>\n",
       "      <td>0</td>\n",
       "      <td>0</td>\n",
       "      <td>1</td>\n",
       "      <td>0</td>\n",
       "      <td>0</td>\n",
       "      <td>0</td>\n",
       "      <td>...</td>\n",
       "      <td>0</td>\n",
       "      <td>1</td>\n",
       "      <td>0</td>\n",
       "      <td>0</td>\n",
       "      <td>0</td>\n",
       "      <td>0</td>\n",
       "      <td>4</td>\n",
       "      <td>NY172023</td>\n",
       "      <td>54.409392</td>\n",
       "      <td>-3.277388</td>\n",
       "    </tr>\n",
       "    <tr>\n",
       "      <th>Winterbourne Bassett</th>\n",
       "      <td>1</td>\n",
       "      <td>0</td>\n",
       "      <td>0</td>\n",
       "      <td>0</td>\n",
       "      <td>0</td>\n",
       "      <td>0</td>\n",
       "      <td>0</td>\n",
       "      <td>0</td>\n",
       "      <td>0</td>\n",
       "      <td>0</td>\n",
       "      <td>...</td>\n",
       "      <td>0</td>\n",
       "      <td>0</td>\n",
       "      <td>1</td>\n",
       "      <td>0</td>\n",
       "      <td>0</td>\n",
       "      <td>0</td>\n",
       "      <td>3</td>\n",
       "      <td>SV094755</td>\n",
       "      <td>50.448915</td>\n",
       "      <td>-7.517089</td>\n",
       "    </tr>\n",
       "    <tr>\n",
       "      <th>Woodside</th>\n",
       "      <td>1</td>\n",
       "      <td>0</td>\n",
       "      <td>0</td>\n",
       "      <td>0</td>\n",
       "      <td>0</td>\n",
       "      <td>0</td>\n",
       "      <td>1</td>\n",
       "      <td>0</td>\n",
       "      <td>0</td>\n",
       "      <td>0</td>\n",
       "      <td>...</td>\n",
       "      <td>0</td>\n",
       "      <td>1</td>\n",
       "      <td>0</td>\n",
       "      <td>0</td>\n",
       "      <td>0</td>\n",
       "      <td>0</td>\n",
       "      <td>2</td>\n",
       "      <td>N0184500</td>\n",
       "      <td>NaN</td>\n",
       "      <td>NaN</td>\n",
       "    </tr>\n",
       "    <tr>\n",
       "      <th>Y Capel</th>\n",
       "      <td>1</td>\n",
       "      <td>0</td>\n",
       "      <td>0</td>\n",
       "      <td>0</td>\n",
       "      <td>0</td>\n",
       "      <td>0</td>\n",
       "      <td>0</td>\n",
       "      <td>0</td>\n",
       "      <td>0</td>\n",
       "      <td>0</td>\n",
       "      <td>...</td>\n",
       "      <td>0</td>\n",
       "      <td>1</td>\n",
       "      <td>0</td>\n",
       "      <td>0</td>\n",
       "      <td>0</td>\n",
       "      <td>0</td>\n",
       "      <td>3</td>\n",
       "      <td>SH9990005</td>\n",
       "      <td>NaN</td>\n",
       "      <td>NaN</td>\n",
       "    </tr>\n",
       "  </tbody>\n",
       "</table>\n",
       "<p>225 rows × 52 columns</p>\n",
       "</div>"
      ],
      "text/plain": [
       "                      standing stones/boulders  orthostats/boulders and bank  \\\n",
       "Name                                                                           \n",
       "Abercross                                    1                             0   \n",
       "Achanarass Hill                              1                             0   \n",
       "Acharn Falls                                 1                             0   \n",
       "Airich                                       0                             1   \n",
       "Appletreewick                                1                             0   \n",
       "...                                        ...                           ...   \n",
       "White Moss NE                                1                             0   \n",
       "White Moss NW                                1                             0   \n",
       "Winterbourne Bassett                         1                             0   \n",
       "Woodside                                     1                             0   \n",
       "Y Capel                                      1                             0   \n",
       "\n",
       "                      ditch and bank  bank   stones on or protrude from mound  \\\n",
       "Name                                                                            \n",
       "Abercross                          0      0                                 0   \n",
       "Achanarass Hill                    0      0                                 0   \n",
       "Acharn Falls                       0      0                                 0   \n",
       "Airich                             0      0                                 0   \n",
       "Appletreewick                      0      0                                 0   \n",
       "...                              ...    ...                               ...   \n",
       "White Moss NE                      0      0                                 0   \n",
       "White Moss NW                      0      0                                 0   \n",
       "Winterbourne Bassett               0      0                                 0   \n",
       "Woodside                           0      0                                 0   \n",
       "Y Capel                            0      0                                 0   \n",
       "\n",
       "                      other, inc once below mound  regularly spaced  \\\n",
       "Name                                                                  \n",
       "Abercross                                       0                 1   \n",
       "Achanarass Hill                                 0                 1   \n",
       "Acharn Falls                                    0                 1   \n",
       "Airich                                          0                 0   \n",
       "Appletreewick                                   0                 1   \n",
       "...                                           ...               ...   \n",
       "White Moss NE                                   0                 1   \n",
       "White Moss NW                                   0                 1   \n",
       "Winterbourne Bassett                            0                 0   \n",
       "Woodside                                        0                 1   \n",
       "Y Capel                                         0                 0   \n",
       "\n",
       "                      irregularly spaced  contiguoius  bank faced inside  ...  \\\n",
       "Name                                                                      ...   \n",
       "Abercross                              0            0                  0  ...   \n",
       "Achanarass Hill                        0            0                  0  ...   \n",
       "Acharn Falls                           0            0                  0  ...   \n",
       "Airich                                 1            0                  0  ...   \n",
       "Appletreewick                          0            0                  0  ...   \n",
       "...                                  ...          ...                ...  ...   \n",
       "White Moss NE                          0            0                  0  ...   \n",
       "White Moss NW                          0            0                  0  ...   \n",
       "Winterbourne Bassett                   0            0                  0  ...   \n",
       "Woodside                               0            0                  0  ...   \n",
       "Y Capel                                0            0                  0  ...   \n",
       "\n",
       "                      other.3  diam 1  diam 2  diam 3  diam 4  Unnamed: 50  \\\n",
       "Name                                                                         \n",
       "Abercross                   0       1       0       0       0            0   \n",
       "Achanarass Hill             0       1       0       0       0            0   \n",
       "Acharn Falls                0       1       0       0       0            0   \n",
       "Airich                      0       1       0       0       0            0   \n",
       "Appletreewick               0       1       0       0       0            0   \n",
       "...                       ...     ...     ...     ...     ...          ...   \n",
       "White Moss NE               0       1       0       0       0            0   \n",
       "White Moss NW               0       1       0       0       0            0   \n",
       "Winterbourne Bassett        0       0       1       0       0            0   \n",
       "Woodside                    0       1       0       0       0            0   \n",
       "Y Capel                     0       1       0       0       0            0   \n",
       "\n",
       "                      clusters    Gridref   latitude  longitude  \n",
       "Name                                                             \n",
       "Abercross                    2   NH771990  57.963262  -4.079653  \n",
       "Achanarass Hill              2   ND145552  58.476620  -3.468011  \n",
       "Acharn Falls                 4   NN767427  56.560029  -4.008468  \n",
       "Airich                       3   NN959386  56.527862  -3.694323  \n",
       "Appletreewick                2   SK065632  53.165884  -1.904230  \n",
       "...                        ...        ...        ...        ...  \n",
       "White Moss NE                4   NY172024  54.410291  -3.277416  \n",
       "White Moss NW                4   NY172023  54.409392  -3.277388  \n",
       "Winterbourne Bassett         3   SV094755  50.448915  -7.517089  \n",
       "Woodside                     2   N0184500        NaN        NaN  \n",
       "Y Capel                      3  SH9990005        NaN        NaN  \n",
       "\n",
       "[225 rows x 52 columns]"
      ]
     },
     "execution_count": 7,
     "metadata": {},
     "output_type": "execute_result"
    }
   ],
   "source": [
    "from map_tools import get_lat_long_from_os\n",
    "\n",
    "df_coords = pd.read_csv(\n",
    "    \"gridrefs_clean.csv\",\n",
    "    index_col=[1,0],\n",
    "    )\n",
    "df_coords.index = df_coords.index.droplevel(0)\n",
    "df_coords = df_coords.dropna()\n",
    "\n",
    "latlong_data = df_coords.apply(lambda row: get_lat_long_from_os(row.Gridref), axis='columns', result_type='expand')\n",
    "latlong_data.columns = ['latitude', 'longitude']\n",
    "df_coords = pd.concat([df_coords, latlong_data], axis='columns')\n",
    "\n",
    "df = df.join(df_coords)\n",
    "df"
   ]
  },
  {
   "cell_type": "code",
   "execution_count": 10,
   "metadata": {},
   "outputs": [
    {
     "data": {
      "application/vnd.plotly.v1+json": {
       "config": {
        "plotlyServerURL": "https://plot.ly"
       },
       "data": [
        {
         "customdata": [
          [
           null
          ],
          [
           null
          ],
          [
           "SK2034804"
          ],
          [
           "SM947297"
          ],
          [
           null
          ],
          [
           "SH611217"
          ],
          [
           null
          ],
          [
           null
          ],
          [
           "SK280685"
          ],
          [
           "SK213805"
          ],
          [
           "SK249634"
          ],
          [
           "SD990902"
          ],
          [
           "SD639800"
          ],
          [
           "SD900337"
          ],
          [
           "SD881302"
          ],
          [
           "SH6311889"
          ],
          [
           "SH609324"
          ],
          [
           "SH610324"
          ],
          [
           "J628495"
          ],
          [
           "SN142267"
          ],
          [
           "SK279756"
          ],
          [
           "SD284967"
          ],
          [
           "NY483223"
          ],
          [
           "SH616203"
          ],
          [
           "NX947794"
          ],
          [
           "SK269862"
          ],
          [
           "SK221845"
          ],
          [
           "Sk160635"
          ],
          [
           null
          ],
          [
           "SY596865"
          ],
          [
           "SE126451"
          ],
          [
           "NT124443"
          ],
          [
           "SE136447"
          ],
          [
           "SK225790"
          ],
          [
           "SD250826"
          ],
          [
           null
          ],
          [
           "SK238966"
          ],
          [
           "SK281703"
          ],
          [
           "NY646111"
          ]
         ],
         "hovertemplate": "<b>%{hovertext}</b><br><br>clusters=1<br>latitude=%{lat}<br>longitude=%{lon}<br>Gridref=%{customdata[0]}<extra></extra>",
         "hovertext": [
          "Abercross",
          "Achanarass Hill",
          "Acharn Falls",
          "Airich",
          "Appletreewick",
          "Arbor Low",
          "Ash Cabin Flat",
          "Auchagsalion Aran",
          "Auchinduich",
          "Aultan Brovbster",
          "Avebury",
          "BANNAU SIR GAER",
          "Backhill of Drachlaw",
          "Backlass",
          "Balbirnie,P&K",
          "Balfarg",
          "Balgathno,Dundee",
          "Balhomais",
          "Balkembrack",
          "Ballynoe",
          "Balmuick",
          "Banford Moor S",
          "Banniside",
          "Barbreck house bB Argyll",
          "Barbrook 1",
          "Bfrabrook 2",
          "Blackfaulds",
          "Bleberry Haws",
          "Boscawen-Un",
          "Brankam Hill 2",
          "Brat's Hill",
          "Broomrigg S",
          "Broomrigg centre",
          "Brown Edge",
          "Bryn Y Gorlan",
          "Cairnpapple",
          "Cairnwell",
          "Callanaish",
          "Carperby"
         ],
         "lat": [
          null,
          null,
          null,
          51.927859241002174,
          null,
          52.77497180666251,
          null,
          null,
          53.212831462337896,
          53.32100416896755,
          53.167142757873734,
          54.30740273586123,
          54.2144544067291,
          53.79950796724808,
          53.76800980773715,
          null,
          52.87104464117801,
          52.87107049844027,
          null,
          51.90776997749961,
          53.276655432537424,
          54.360775585819965,
          54.59322977367235,
          52.76252304050214,
          55.09780701405222,
          53.371984446316844,
          53.35692555054348,
          53.16838157894998,
          null,
          50.676752683451575,
          53.901917700990005,
          55.68424541213448,
          53.89829755501401,
          53.30747199547106,
          54.23359211792297,
          null,
          53.46561135134005,
          53.229005663288675,
          54.49399002910687
         ],
         "legendgroup": "1",
         "lon": [
          null,
          null,
          null,
          -4.989427355853133,
          null,
          -4.061222218285561,
          null,
          null,
          -1.5821749588244616,
          -1.6817037935772388,
          -1.6289911051777204,
          -2.016871256918233,
          -2.5550762552487067,
          -2.1533048090111935,
          -2.1820148911320416,
          null,
          -4.068754692434552,
          -4.067268541343754,
          null,
          -4.704013432764552,
          -1.5830529036997956,
          -3.1034549675735823,
          -2.80167692336794,
          -4.053215261308797,
          -3.652072694142782,
          -1.5971537207966098,
          -1.6694164083082441,
          -1.7621159208846526,
          null,
          -2.573146341853903,
          -1.809720007126113,
          -3.395028495649422,
          -1.7945181453851977,
          -1.6637951569587703,
          -3.152236781396424,
          null,
          -1.6429654203025086,
          -1.5805195639130376,
          -2.548050946132463
         ],
         "marker": {
          "color": "#636efa"
         },
         "mode": "markers",
         "name": "1",
         "showlegend": true,
         "subplot": "mapbox",
         "type": "scattermapbox"
        },
        {
         "customdata": [
          [
           "NR911327"
          ],
          [
           "NR911328"
          ],
          [
           "NR911326"
          ],
          [
           "N0184500"
          ],
          [
           "ND181351"
          ],
          [
           null
          ],
          [
           null
          ],
          [
           "SX134775"
          ],
          [
           "SX134776"
          ],
          [
           "SY57787m8"
          ],
          [
           "NR911327"
          ],
          [
           "NY139959"
          ],
          [
           "NR911324"
          ],
          [
           null
          ],
          [
           "NH771990"
          ],
          [
           "NR911323"
          ],
          [
           "NY607116"
          ],
          [
           null
          ],
          [
           "SW683365"
          ],
          [
           "SE126451"
          ],
          [
           "NX947794"
          ],
          [
           "SW386323"
          ],
          [
           "SW386322"
          ],
          [
           null
          ],
          [
           "NN975534"
          ],
          [
           "NY592174"
          ],
          [
           "NY039223"
          ],
          [
           "ST599634"
          ],
          [
           "NR911328"
          ],
          [
           "NS044658"
          ],
          [
           "NJ822249"
          ],
          [
           "SK215868"
          ],
          [
           null
          ],
          [
           "SJ058302"
          ],
          [
           "SY994821"
          ],
          [
           "SH722746"
          ],
          [
           null
          ],
          [
           "SN818259"
          ],
          [
           "SN134293"
          ],
          [
           "NO103386"
          ],
          [
           "NO133193"
          ],
          [
           "SW432245"
          ],
          [
           "NJ885304"
          ],
          [
           null
          ],
          [
           null
          ],
          [
           "NO648996"
          ],
          [
           null
          ],
          [
           "NX399709"
          ],
          [
           null
          ],
          [
           "NX517560"
          ],
          [
           "SH724713"
          ],
          [
           "SH903005"
          ],
          [
           null
          ],
          [
           "NX529571"
          ],
          [
           null
          ],
          [
           "NY548465"
          ],
          [
           "SD264946"
          ],
          [
           "NO145322"
          ],
          [
           "NO382384"
          ],
          [
           "NO353331"
          ],
          [
           "ND079423"
          ],
          [
           "NJ672463"
          ],
          [
           null
          ],
          [
           "SK065632"
          ],
          [
           "ND145552"
          ],
          [
           "NY931437"
          ],
          [
           null
          ],
          [
           "NY587515"
          ],
          [
           "NY752168"
          ],
          [
           "NN923249"
          ],
          [
           "SO095583"
          ],
          [
           "SK225790"
          ]
         ],
         "hovertemplate": "<b>%{hovertext}</b><br><br>clusters=2<br>latitude=%{lat}<br>longitude=%{lon}<br>Gridref=%{customdata[0]}<extra></extra>",
         "hovertext": [
          "Casterton",
          "Castlehowe Scar",
          "Castlerigg",
          "Castlerudxdery",
          "Cauldside Burn",
          "Cerrig Arthur",
          "Cerrig Duon",
          "Cerrig Gaerau",
          "Cerrig Pryfraid",
          "Cheetham's Close",
          "Claughried",
          "Cnoc An Liath-Baihd",
          "Coate",
          "Cockpit",
          "Colen Wood",
          "Coulton",
          "Craddock Moor",
          "Croft Moraig",
          "Cullerlie",
          "Dailharraid",
          "Delph Hill/Extwistle Moor",
          "Doll Tor",
          "Drannandow",
          "Druid's Seat Wsood",
          "Druids Altar",
          "Druidskinny",
          "Duddo",
          "Dumpit Hill",
          "Dun Ruadh",
          "Easthill",
          "Elva Plain",
          "Ewden Beck",
          "Eynam Moor III",
          "Eynam Mor II",
          "Faskally Cottages ,P&K",
          "Fernacre",
          "Five Strnes",
          "Fowlis Wester West",
          "Gamelsnds",
          "Gaythorn Plain 2",
          "Gellin Hill",
          "Gibbet Moor",
          "Girdlestanes",
          "Glasell",
          "Glenquickan",
          "Glentirow",
          "Gors Faswr",
          "Grey Coft/Secsle",
          "Grubstonems",
          "Guidbest",
          "Gunnerkeld",
          "Hafodty",
          "Hengwm",
          "Hmpton Down",
          "Hoarstones",
          "Hough NE",
          "Howe Well",
          "Hurlers N",
          "Hurlers S",
          "Hurlers centrall",
          "Innismill",
          "Iron Hill N",
          "Kerry Hill",
          "Killin Park",
          "King Arthur's Down NW",
          "King Arthur's Down SE",
          "Kingarth",
          "Kingston Rusell",
          "Kirkhill",
          "Lacra A",
          "Lacra B",
          "Lairdmannoch"
         ],
         "lat": [
          55.543151913963385,
          55.544048946414506,
          55.542254881311585,
          null,
          58.29684221220725,
          null,
          null,
          50.56737900700896,
          50.56827734466595,
          null,
          55.543151913963385,
          55.24974086780672,
          55.540460815406085,
          null,
          57.96326209580161,
          55.539563782152364,
          54.498195204978465,
          null,
          50.183109818192065,
          53.901917700990005,
          55.09780701405222,
          50.13305192682309,
          50.13215440422301,
          null,
          56.66111804795188,
          54.55019705644051,
          54.586729110655476,
          51.36823914456813,
          55.544048946414506,
          55.84563400182687,
          57.31431997790895,
          53.377623624885665,
          null,
          52.8610172660383,
          50.638594406785494,
          53.25297704762948,
          null,
          51.91904296534327,
          51.930852335124264,
          56.53083266139799,
          56.35805664515916,
          50.065048539813304,
          57.36392849132169,
          null,
          null,
          57.08604915670573,
          null,
          55.006834531942374,
          null,
          54.87670654994252,
          53.223378718118454,
          52.59119583933829,
          null,
          54.88693813925813,
          null,
          54.811313573965,
          54.341621058113574,
          56.4741356974714,
          56.53353709780739,
          56.48553952556861,
          58.359461998625456,
          57.5057044411603,
          null,
          53.16588361103858,
          58.476619744475556,
          54.78815022050525,
          null,
          54.85658004556744,
          54.545845381199804,
          56.40402774445912,
          52.21545716493973,
          53.30747199547106
         ],
         "legendgroup": "2",
         "lon": [
          -5.315651823618336,
          -5.315727579935583,
          -5.315576071575743,
          null,
          -3.3991018365010444,
          null,
          null,
          -4.637696770248066,
          -4.637747040254458,
          null,
          -5.315651823618336,
          -3.356151378867971,
          -5.315424580313211,
          null,
          -4.079653198820386,
          -5.315348841092612,
          -2.6083295969337756,
          null,
          -5.249493810500955,
          -1.809720007126113,
          -3.652072694142782,
          -5.6629009822121885,
          -5.6628321722962465,
          null,
          -3.674178645001634,
          -2.6322957364387105,
          -3.4888480950134797,
          -2.577431430205688,
          -5.315727579935583,
          -5.128367363462504,
          -2.297148174951932,
          -1.6782756576594664,
          null,
          -3.4008250497245394,
          -2.0098462399207193,
          -3.917603256627088,
          null,
          -3.720478163561024,
          -4.7170618554700825,
          -3.4601748962474117,
          -3.4049788662753127,
          -5.593213185759429,
          -2.1928187127139775,
          null,
          null,
          -2.582420839602967,
          null,
          -4.506231754561513,
          null,
          -4.313922984812929,
          -3.9132805377692144,
          -3.6211423741718005,
          null,
          -4.29577484218393,
          null,
          -2.704838711194891,
          -3.133715569525219,
          -3.389775790939695,
          -3.0064616246069926,
          -3.0522944277382265,
          -3.576012360115137,
          -2.5490378770124225,
          null,
          -1.9042297938321038,
          -3.4680107669163633,
          -2.108821346933951,
          null,
          -2.6448708638150045,
          -2.384879597373856,
          -3.7471954588364667,
          -3.3262300338654236,
          -1.6637951569587703
         ],
         "marker": {
          "color": "#EF553B"
         },
         "mode": "markers",
         "name": "2",
         "showlegend": true,
         "subplot": "mapbox",
         "type": "scattermapbox"
        },
        {
         "customdata": [
          [
           "NY177317"
          ],
          [
           null
          ],
          [
           "NM831606"
          ],
          [
           "SX144799"
          ],
          [
           "SO163516"
          ],
          [
           "NY802712"
          ],
          [
           null
          ],
          [
           "SP296308"
          ],
          [
           "SO143579"
          ],
          [
           "NL958451"
          ],
          [
           "NY628104"
          ],
          [
           "SO239375"
          ],
          [
           "NO907973"
          ],
          [
           "NX509582"
          ],
          [
           "NG543176"
          ],
          [
           "SX125800"
          ],
          [
           "NO353316"
          ],
          [
           "SX143752"
          ],
          [
           "NM906292"
          ],
          [
           "SV094755"
          ],
          [
           "NY253961"
          ],
          [
           "NY223880"
          ],
          [
           "NN959386"
          ],
          [
           "SN808244"
          ],
          [
           "SX131750"
          ],
          [
           null
          ],
          [
           "NY293236"
          ],
          [
           "NY568177"
          ],
          [
           null
          ],
          [
           "SH747752"
          ],
          [
           "SU211868"
          ],
          [
           null
          ],
          [
           "NR826978"
          ],
          [
           "SD12718812"
          ],
          [
           "J481403"
          ],
          [
           "SN833310"
          ],
          [
           null
          ],
          [
           "SH9990005"
          ],
          [
           "S623845"
          ],
          [
           "SK029639"
          ],
          [
           "NR195569"
          ],
          [
           "SX185799"
          ],
          [
           "NY571372"
          ],
          [
           "NY576"
          ],
          [
           "NS091556"
          ],
          [
           "SV181824"
          ],
          [
           null
          ],
          [
           "H200707"
          ],
          [
           "SX248718"
          ],
          [
           null
          ],
          [
           "NM617250"
          ],
          [
           "NM617250"
          ],
          [
           "SD149813"
          ],
          [
           null
          ],
          [
           "NJ289640"
          ],
          [
           "SD149812"
          ],
          [
           "SJ056371"
          ]
         ],
         "hovertemplate": "<b>%{hovertext}</b><br><br>clusters=3<br>latitude=%{lat}<br>longitude=%{lon}<br>Gridref=%{customdata[0]}<extra></extra>",
         "hovertext": [
          "Lear Abele Hill",
          "Leazed",
          "Lecet Hill",
          "Led Croen Yr Ych",
          "Leskernick",
          "Letterson III",
          "Letterstn III",
          "Little Meg",
          "Llacra D",
          "Llecheidor",
          "Llyn Y Tawr",
          "Llynywrach",
          "Loch Buie",
          "Loch Buie",
          "Lochbuie",
          "Long Meg",
          "Loupin Stsnes",
          "Lowlongrigg NE",
          "Lowlongrigg SW",
          "Lundin Links",
          "Machrie Burn",
          "Machrie Moor 1",
          "Machrie Moor 10",
          "Machrie Moor 2",
          "Machrie Moor 4",
          "Machrie Moor 4",
          "Machrie Moor 4",
          "Machrie Moor 4",
          "Machrie Moor 5",
          "Machuinn",
          "Mchrie Moor 3",
          "Meini Gwyr",
          "Merryt Maidens",
          "Millin Bay",
          "Moel Goedog East",
          "Moel Goedog West",
          "Moel Ty Uchaf",
          "Moncreiffe",
          "Moseley Height",
          "Murthly Hospital",
          "Mynydd Y Gelli",
          "Na Clachan Breige",
          "Nant Tawr East",
          "Nant Tawr West",
          "Nine Ladies",
          "Nine Stoines",
          "Nine Stones",
          "Nine Stones",
          "Ninestoineclose/Grey Ladies",
          "Oddendale",
          "Offerton Moor",
          "Park Gate",
          "Pen Y Beachdn",
          "Penhurrock",
          "Penmarnmawr",
          "Rempstone",
          "Rhds Maen"
         ],
         "lat": [
          54.67362104822497,
          null,
          56.686647143301926,
          50.589257963856205,
          52.156311638660554,
          55.03492342480466,
          null,
          51.97488762428902,
          52.21263040119763,
          56.499316620381286,
          54.48757029948158,
          52.030670214001695,
          57.06664598273962,
          54.89622219801351,
          57.18317817970924,
          50.58954891485398,
          56.47206583044216,
          50.54700385254412,
          56.40847292885953,
          50.448915429008615,
          55.25339810288446,
          55.180165325655,
          56.527862461925814,
          51.905349552297544,
          50.544824654226346,
          null,
          54.602605706990985,
          54.55269326363149,
          null,
          53.258963968111004,
          51.57967363388902,
          null,
          56.12328255842216,
          54.28123839601755,
          null,
          51.965192437184186,
          null,
          null,
          null,
          53.172206846197604,
          55.724059378214974,
          50.59054760216997,
          54.72794742547288,
          null,
          55.75599992022539,
          50.51641638086861,
          null,
          null,
          50.51969860504706,
          null,
          56.357134516315,
          56.357134516315,
          54.22033087151519,
          null,
          57.660258543508405,
          54.21943237357041,
          52.922989894076096
         ],
         "legendgroup": "3",
         "lon": [
          -3.2779159350452782,
          null,
          -5.546910654365348,
          -4.624770230759844,
          -3.2250304158864003,
          -2.3113245032592706,
          null,
          -1.5704868817833926,
          -3.255863368227142,
          -6.955378219652797,
          -2.5757526143781613,
          -3.110772960248009,
          -2.1549931843626413,
          -4.327537106294969,
          -6.073170590403284,
          -4.651674873446241,
          -3.051921471869508,
          -4.623832303006216,
          -5.398907112167804,
          -7.517089042121735,
          -3.176850670447457,
          -3.2218185048054515,
          -3.694322968760717,
          -3.734501519124545,
          -4.640677009984578,
          null,
          -3.096051867058653,
          -2.66944463728455,
          null,
          -3.8803577545807793,
          -1.6968913373672407,
          null,
          -5.50277055235884,
          -3.3424129512262772,
          null,
          -3.700397023437851,
          null,
          null,
          null,
          -1.9580717446408302,
          -6.476209410178176,
          -4.5668217780822795,
          -2.667672711221408,
          null,
          -5.046064845601832,
          -7.401375389814552,
          null,
          null,
          -4.473958586862248,
          null,
          -5.863913568358177,
          -5.863913568358177,
          -3.306831632385082,
          null,
          -3.193400190717319,
          -3.3068032416858677,
          -3.40580242771312
         ],
         "marker": {
          "color": "#00cc96"
         },
         "mode": "markers",
         "name": "3",
         "showlegend": true,
         "subplot": "mapbox",
         "type": "scattermapbox"
        },
        {
         "customdata": [
          [
           "NN930589"
          ],
          [
           "SD292739"
          ],
          [
           "NO281031"
          ],
          [
           "NN576327"
          ],
          [
           "SP411048"
          ],
          [
           "NO285030"
          ],
          [
           "SX258715"
          ],
          [
           "SK225791"
          ],
          [
           "N563262"
          ],
          [
           "SU102699"
          ],
          [
           "NC584008"
          ],
          [
           "NR893346"
          ],
          [
           "NJ839562"
          ],
          [
           "NY033023"
          ],
          [
           null
          ],
          [
           "NN767427"
          ],
          [
           "NX662614"
          ],
          [
           "NY172024"
          ],
          [
           "NY172023"
          ],
          [
           "NX382564"
          ],
          [
           "NM906291"
          ],
          [
           "NY172028"
          ],
          [
           "HY306125"
          ],
          [
           "NY596148"
          ],
          [
           "NR911329"
          ],
          [
           "NN682401"
          ],
          [
           null
          ],
          [
           "NY680083"
          ],
          [
           "NS987717"
          ],
          [
           "NY548466"
          ],
          [
           "NY592129"
          ],
          [
           "SY611904"
          ],
          [
           "SX236781"
          ],
          [
           null
          ],
          [
           null
          ],
          [
           "SN818258"
          ],
          [
           "SX258714"
          ],
          [
           "NY596147"
          ],
          [
           "NY257966"
          ],
          [
           null
          ],
          [
           "NY217826"
          ],
          [
           null
          ],
          [
           "SX258716"
          ],
          [
           "NY172029"
          ],
          [
           "NO404027"
          ],
          [
           "NY494219"
          ],
          [
           "SK2386288"
          ],
          [
           "NY173023"
          ],
          [
           "NC678390"
          ],
          [
           "NJ785042"
          ],
          [
           "NN797472"
          ],
          [
           "NO155273"
          ],
          [
           "SW414276"
          ],
          [
           null
          ],
          [
           "NO300559"
          ],
          [
           "NR911325"
          ],
          [
           "SK288790"
          ]
         ],
         "hovertemplate": "<b>%{hovertext}</b><br><br>clusters=4<br>latitude=%{lat}<br>longitude=%{lon}<br>Gridref=%{customdata[0]}<extra></extra>",
         "hovertext": [
          "Rhyds Y Beddau",
          "Ring of Bfrodgar",
          "Rollright Stones",
          "Sandy Road W",
          "Sdtanton Drew",
          "Seven Brethren",
          "Seven Stones of Horden",
          "Shapbeck",
          "Sheldon",
          "Shian Bank SE",
          "Simonburn",
          "Six Stones",
          "Smelting Hill",
          "South Ytsie",
          "St. Colmac’s Cottages",
          "Standing stones",
          "Stangton Drew NE",
          "Stanton",
          "Stanton Drew SW",
          "Stonehenge",
          "Stones of Stenness",
          "Stripple Stones",
          "Strointollier 1",
          "Strontoiller",
          "Studfoldgate",
          "Sunbrick concentric",
          "Swinside",
          "Templewood",
          "The Beacon/Knapperthaw",
          "The Devil's Quoits",
          "The Kirk",
          "The Sanctuary",
          "Threaplnds",
          "Threestones Burn",
          "Tigh Na Ruaich",
          "Torbrfeck",
          "Torhoukie",
          "Trecastle Mountain NE",
          "Tregeseal E",
          "Tregesseal W",
          "Trippet Stones",
          "Tunstead/Cadtser",
          "Twelve Apostles",
          "Twelve Apostles",
          "Twelve Apostles",
          "Twelve Apostles",
          "Upper Auchnagorth",
          "Wendron SD",
          "Wester Torrie",
          "Wet Withers",
          "Whitcastles",
          "White Hag",
          "White Moss NE",
          "White Moss NW",
          "Winterbourne Bassett",
          "Woodside",
          "Y Capel"
         ],
         "lat": [
          56.70949699880719,
          54.15601495302082,
          56.21502467972177,
          56.464857746203705,
          51.74040737322932,
          56.21418678407132,
          50.51730185355043,
          53.30837084957455,
          null,
          51.42801894657345,
          57.97385772744011,
          55.559421022543205,
          57.595534741443785,
          54.40693770987848,
          null,
          56.56002852907089,
          54.929292123033605,
          54.41029064629801,
          54.40939216642409,
          54.87611093307186,
          56.40757609914171,
          54.413884564350376,
          58.993964383653285,
          54.52686483458215,
          55.544945978664984,
          56.53437723302376,
          null,
          54.46905421314216,
          55.92766686250627,
          54.812212149653256,
          54.50975867538443,
          50.71192511700217,
          50.57593986365624,
          null,
          null,
          51.91814428915724,
          50.51640338380795,
          54.525966202284586,
          55.25795055552347,
          null,
          55.1315577725595,
          null,
          50.51820032312191,
          54.41478304350266,
          56.21313374815836,
          54.5897469724194,
          null,
          54.40940844982552,
          58.319583179503184,
          57.128217318019665,
          56.601210581717915,
          56.430307242721184,
          50.09209338053837,
          null,
          56.68957099549564,
          55.54135784845917,
          53.30716829837768
         ],
         "legendgroup": "4",
         "lon": [
          -3.7498984655729988,
          -3.0857439676805574,
          -3.1609973254048533,
          -4.31385178891463,
          -1.406152172940482,
          -3.154520250959086,
          -4.459706098805436,
          -1.6637881010295963,
          null,
          -1.8546773557323035,
          -4.396901406446189,
          -5.345658422932813,
          -2.270999663914764,
          -3.491572032798586,
          null,
          -4.00846831882706,
          -4.090350626066725,
          -3.277415557587928,
          -3.277387611589334,
          -4.524640340539394,
          -5.398826884794711,
          -3.277527356945285,
          -3.209640830594406,
          -2.625753878618803,
          -5.3158033405278164,
          -4.1454903151627,
          null,
          -2.495254183636199,
          -3.623168935070863,
          -2.704854361517687,
          -2.631670796947288,
          -2.5523287583120045,
          -4.493883126249745,
          null,
          null,
          -3.7204437759789526,
          -4.459659313325176,
          -2.6257401298807923,
          -3.17068937480124,
          null,
          -3.229747074471625,
          null,
          -4.459752886669583,
          -3.277555310625943,
          -2.9625674928112837,
          -2.7845831611344276,
          null,
          -3.2758467116460617,
          -4.259553991838039,
          -2.356772708231679,
          -3.9617345110089204,
          -3.371951895685227,
          -5.6204899228893455,
          null,
          -3.1445385350651414,
          -5.31550032380748,
          -1.5692487905123853
         ],
         "marker": {
          "color": "#ab63fa"
         },
         "mode": "markers",
         "name": "4",
         "showlegend": true,
         "subplot": "mapbox",
         "type": "scattermapbox"
        }
       ],
       "layout": {
        "height": 300,
        "legend": {
         "title": {
          "text": "clusters"
         },
         "tracegroupgap": 0
        },
        "mapbox": {
         "center": {
          "lat": 55,
          "lon": -3.5402184819714413
         },
         "domain": {
          "x": [
           0,
           1
          ],
          "y": [
           0,
           1
          ]
         },
         "style": "carto-positron",
         "zoom": 4
        },
        "margin": {
         "b": 0,
         "l": 0,
         "r": 0,
         "t": 0
        },
        "template": {
         "data": {
          "bar": [
           {
            "error_x": {
             "color": "#2a3f5f"
            },
            "error_y": {
             "color": "#2a3f5f"
            },
            "marker": {
             "line": {
              "color": "#E5ECF6",
              "width": 0.5
             },
             "pattern": {
              "fillmode": "overlay",
              "size": 10,
              "solidity": 0.2
             }
            },
            "type": "bar"
           }
          ],
          "barpolar": [
           {
            "marker": {
             "line": {
              "color": "#E5ECF6",
              "width": 0.5
             },
             "pattern": {
              "fillmode": "overlay",
              "size": 10,
              "solidity": 0.2
             }
            },
            "type": "barpolar"
           }
          ],
          "carpet": [
           {
            "aaxis": {
             "endlinecolor": "#2a3f5f",
             "gridcolor": "white",
             "linecolor": "white",
             "minorgridcolor": "white",
             "startlinecolor": "#2a3f5f"
            },
            "baxis": {
             "endlinecolor": "#2a3f5f",
             "gridcolor": "white",
             "linecolor": "white",
             "minorgridcolor": "white",
             "startlinecolor": "#2a3f5f"
            },
            "type": "carpet"
           }
          ],
          "choropleth": [
           {
            "colorbar": {
             "outlinewidth": 0,
             "ticks": ""
            },
            "type": "choropleth"
           }
          ],
          "contour": [
           {
            "colorbar": {
             "outlinewidth": 0,
             "ticks": ""
            },
            "colorscale": [
             [
              0,
              "#0d0887"
             ],
             [
              0.1111111111111111,
              "#46039f"
             ],
             [
              0.2222222222222222,
              "#7201a8"
             ],
             [
              0.3333333333333333,
              "#9c179e"
             ],
             [
              0.4444444444444444,
              "#bd3786"
             ],
             [
              0.5555555555555556,
              "#d8576b"
             ],
             [
              0.6666666666666666,
              "#ed7953"
             ],
             [
              0.7777777777777778,
              "#fb9f3a"
             ],
             [
              0.8888888888888888,
              "#fdca26"
             ],
             [
              1,
              "#f0f921"
             ]
            ],
            "type": "contour"
           }
          ],
          "contourcarpet": [
           {
            "colorbar": {
             "outlinewidth": 0,
             "ticks": ""
            },
            "type": "contourcarpet"
           }
          ],
          "heatmap": [
           {
            "colorbar": {
             "outlinewidth": 0,
             "ticks": ""
            },
            "colorscale": [
             [
              0,
              "#0d0887"
             ],
             [
              0.1111111111111111,
              "#46039f"
             ],
             [
              0.2222222222222222,
              "#7201a8"
             ],
             [
              0.3333333333333333,
              "#9c179e"
             ],
             [
              0.4444444444444444,
              "#bd3786"
             ],
             [
              0.5555555555555556,
              "#d8576b"
             ],
             [
              0.6666666666666666,
              "#ed7953"
             ],
             [
              0.7777777777777778,
              "#fb9f3a"
             ],
             [
              0.8888888888888888,
              "#fdca26"
             ],
             [
              1,
              "#f0f921"
             ]
            ],
            "type": "heatmap"
           }
          ],
          "heatmapgl": [
           {
            "colorbar": {
             "outlinewidth": 0,
             "ticks": ""
            },
            "colorscale": [
             [
              0,
              "#0d0887"
             ],
             [
              0.1111111111111111,
              "#46039f"
             ],
             [
              0.2222222222222222,
              "#7201a8"
             ],
             [
              0.3333333333333333,
              "#9c179e"
             ],
             [
              0.4444444444444444,
              "#bd3786"
             ],
             [
              0.5555555555555556,
              "#d8576b"
             ],
             [
              0.6666666666666666,
              "#ed7953"
             ],
             [
              0.7777777777777778,
              "#fb9f3a"
             ],
             [
              0.8888888888888888,
              "#fdca26"
             ],
             [
              1,
              "#f0f921"
             ]
            ],
            "type": "heatmapgl"
           }
          ],
          "histogram": [
           {
            "marker": {
             "pattern": {
              "fillmode": "overlay",
              "size": 10,
              "solidity": 0.2
             }
            },
            "type": "histogram"
           }
          ],
          "histogram2d": [
           {
            "colorbar": {
             "outlinewidth": 0,
             "ticks": ""
            },
            "colorscale": [
             [
              0,
              "#0d0887"
             ],
             [
              0.1111111111111111,
              "#46039f"
             ],
             [
              0.2222222222222222,
              "#7201a8"
             ],
             [
              0.3333333333333333,
              "#9c179e"
             ],
             [
              0.4444444444444444,
              "#bd3786"
             ],
             [
              0.5555555555555556,
              "#d8576b"
             ],
             [
              0.6666666666666666,
              "#ed7953"
             ],
             [
              0.7777777777777778,
              "#fb9f3a"
             ],
             [
              0.8888888888888888,
              "#fdca26"
             ],
             [
              1,
              "#f0f921"
             ]
            ],
            "type": "histogram2d"
           }
          ],
          "histogram2dcontour": [
           {
            "colorbar": {
             "outlinewidth": 0,
             "ticks": ""
            },
            "colorscale": [
             [
              0,
              "#0d0887"
             ],
             [
              0.1111111111111111,
              "#46039f"
             ],
             [
              0.2222222222222222,
              "#7201a8"
             ],
             [
              0.3333333333333333,
              "#9c179e"
             ],
             [
              0.4444444444444444,
              "#bd3786"
             ],
             [
              0.5555555555555556,
              "#d8576b"
             ],
             [
              0.6666666666666666,
              "#ed7953"
             ],
             [
              0.7777777777777778,
              "#fb9f3a"
             ],
             [
              0.8888888888888888,
              "#fdca26"
             ],
             [
              1,
              "#f0f921"
             ]
            ],
            "type": "histogram2dcontour"
           }
          ],
          "mesh3d": [
           {
            "colorbar": {
             "outlinewidth": 0,
             "ticks": ""
            },
            "type": "mesh3d"
           }
          ],
          "parcoords": [
           {
            "line": {
             "colorbar": {
              "outlinewidth": 0,
              "ticks": ""
             }
            },
            "type": "parcoords"
           }
          ],
          "pie": [
           {
            "automargin": true,
            "type": "pie"
           }
          ],
          "scatter": [
           {
            "fillpattern": {
             "fillmode": "overlay",
             "size": 10,
             "solidity": 0.2
            },
            "type": "scatter"
           }
          ],
          "scatter3d": [
           {
            "line": {
             "colorbar": {
              "outlinewidth": 0,
              "ticks": ""
             }
            },
            "marker": {
             "colorbar": {
              "outlinewidth": 0,
              "ticks": ""
             }
            },
            "type": "scatter3d"
           }
          ],
          "scattercarpet": [
           {
            "marker": {
             "colorbar": {
              "outlinewidth": 0,
              "ticks": ""
             }
            },
            "type": "scattercarpet"
           }
          ],
          "scattergeo": [
           {
            "marker": {
             "colorbar": {
              "outlinewidth": 0,
              "ticks": ""
             }
            },
            "type": "scattergeo"
           }
          ],
          "scattergl": [
           {
            "marker": {
             "colorbar": {
              "outlinewidth": 0,
              "ticks": ""
             }
            },
            "type": "scattergl"
           }
          ],
          "scattermapbox": [
           {
            "marker": {
             "colorbar": {
              "outlinewidth": 0,
              "ticks": ""
             }
            },
            "type": "scattermapbox"
           }
          ],
          "scatterpolar": [
           {
            "marker": {
             "colorbar": {
              "outlinewidth": 0,
              "ticks": ""
             }
            },
            "type": "scatterpolar"
           }
          ],
          "scatterpolargl": [
           {
            "marker": {
             "colorbar": {
              "outlinewidth": 0,
              "ticks": ""
             }
            },
            "type": "scatterpolargl"
           }
          ],
          "scatterternary": [
           {
            "marker": {
             "colorbar": {
              "outlinewidth": 0,
              "ticks": ""
             }
            },
            "type": "scatterternary"
           }
          ],
          "surface": [
           {
            "colorbar": {
             "outlinewidth": 0,
             "ticks": ""
            },
            "colorscale": [
             [
              0,
              "#0d0887"
             ],
             [
              0.1111111111111111,
              "#46039f"
             ],
             [
              0.2222222222222222,
              "#7201a8"
             ],
             [
              0.3333333333333333,
              "#9c179e"
             ],
             [
              0.4444444444444444,
              "#bd3786"
             ],
             [
              0.5555555555555556,
              "#d8576b"
             ],
             [
              0.6666666666666666,
              "#ed7953"
             ],
             [
              0.7777777777777778,
              "#fb9f3a"
             ],
             [
              0.8888888888888888,
              "#fdca26"
             ],
             [
              1,
              "#f0f921"
             ]
            ],
            "type": "surface"
           }
          ],
          "table": [
           {
            "cells": {
             "fill": {
              "color": "#EBF0F8"
             },
             "line": {
              "color": "white"
             }
            },
            "header": {
             "fill": {
              "color": "#C8D4E3"
             },
             "line": {
              "color": "white"
             }
            },
            "type": "table"
           }
          ]
         },
         "layout": {
          "annotationdefaults": {
           "arrowcolor": "#2a3f5f",
           "arrowhead": 0,
           "arrowwidth": 1
          },
          "autotypenumbers": "strict",
          "coloraxis": {
           "colorbar": {
            "outlinewidth": 0,
            "ticks": ""
           }
          },
          "colorscale": {
           "diverging": [
            [
             0,
             "#8e0152"
            ],
            [
             0.1,
             "#c51b7d"
            ],
            [
             0.2,
             "#de77ae"
            ],
            [
             0.3,
             "#f1b6da"
            ],
            [
             0.4,
             "#fde0ef"
            ],
            [
             0.5,
             "#f7f7f7"
            ],
            [
             0.6,
             "#e6f5d0"
            ],
            [
             0.7,
             "#b8e186"
            ],
            [
             0.8,
             "#7fbc41"
            ],
            [
             0.9,
             "#4d9221"
            ],
            [
             1,
             "#276419"
            ]
           ],
           "sequential": [
            [
             0,
             "#0d0887"
            ],
            [
             0.1111111111111111,
             "#46039f"
            ],
            [
             0.2222222222222222,
             "#7201a8"
            ],
            [
             0.3333333333333333,
             "#9c179e"
            ],
            [
             0.4444444444444444,
             "#bd3786"
            ],
            [
             0.5555555555555556,
             "#d8576b"
            ],
            [
             0.6666666666666666,
             "#ed7953"
            ],
            [
             0.7777777777777778,
             "#fb9f3a"
            ],
            [
             0.8888888888888888,
             "#fdca26"
            ],
            [
             1,
             "#f0f921"
            ]
           ],
           "sequentialminus": [
            [
             0,
             "#0d0887"
            ],
            [
             0.1111111111111111,
             "#46039f"
            ],
            [
             0.2222222222222222,
             "#7201a8"
            ],
            [
             0.3333333333333333,
             "#9c179e"
            ],
            [
             0.4444444444444444,
             "#bd3786"
            ],
            [
             0.5555555555555556,
             "#d8576b"
            ],
            [
             0.6666666666666666,
             "#ed7953"
            ],
            [
             0.7777777777777778,
             "#fb9f3a"
            ],
            [
             0.8888888888888888,
             "#fdca26"
            ],
            [
             1,
             "#f0f921"
            ]
           ]
          },
          "colorway": [
           "#636efa",
           "#EF553B",
           "#00cc96",
           "#ab63fa",
           "#FFA15A",
           "#19d3f3",
           "#FF6692",
           "#B6E880",
           "#FF97FF",
           "#FECB52"
          ],
          "font": {
           "color": "#2a3f5f"
          },
          "geo": {
           "bgcolor": "white",
           "lakecolor": "white",
           "landcolor": "#E5ECF6",
           "showlakes": true,
           "showland": true,
           "subunitcolor": "white"
          },
          "hoverlabel": {
           "align": "left"
          },
          "hovermode": "closest",
          "mapbox": {
           "style": "light"
          },
          "paper_bgcolor": "white",
          "plot_bgcolor": "#E5ECF6",
          "polar": {
           "angularaxis": {
            "gridcolor": "white",
            "linecolor": "white",
            "ticks": ""
           },
           "bgcolor": "#E5ECF6",
           "radialaxis": {
            "gridcolor": "white",
            "linecolor": "white",
            "ticks": ""
           }
          },
          "scene": {
           "xaxis": {
            "backgroundcolor": "#E5ECF6",
            "gridcolor": "white",
            "gridwidth": 2,
            "linecolor": "white",
            "showbackground": true,
            "ticks": "",
            "zerolinecolor": "white"
           },
           "yaxis": {
            "backgroundcolor": "#E5ECF6",
            "gridcolor": "white",
            "gridwidth": 2,
            "linecolor": "white",
            "showbackground": true,
            "ticks": "",
            "zerolinecolor": "white"
           },
           "zaxis": {
            "backgroundcolor": "#E5ECF6",
            "gridcolor": "white",
            "gridwidth": 2,
            "linecolor": "white",
            "showbackground": true,
            "ticks": "",
            "zerolinecolor": "white"
           }
          },
          "shapedefaults": {
           "line": {
            "color": "#2a3f5f"
           }
          },
          "ternary": {
           "aaxis": {
            "gridcolor": "white",
            "linecolor": "white",
            "ticks": ""
           },
           "baxis": {
            "gridcolor": "white",
            "linecolor": "white",
            "ticks": ""
           },
           "bgcolor": "#E5ECF6",
           "caxis": {
            "gridcolor": "white",
            "linecolor": "white",
            "ticks": ""
           }
          },
          "title": {
           "x": 0.05
          },
          "xaxis": {
           "automargin": true,
           "gridcolor": "white",
           "linecolor": "white",
           "ticks": "",
           "title": {
            "standoff": 15
           },
           "zerolinecolor": "white",
           "zerolinewidth": 2
          },
          "yaxis": {
           "automargin": true,
           "gridcolor": "white",
           "linecolor": "white",
           "ticks": "",
           "title": {
            "standoff": 15
           },
           "zerolinecolor": "white",
           "zerolinewidth": 2
          }
         }
        }
       }
      }
     },
     "metadata": {},
     "output_type": "display_data"
    }
   ],
   "source": [
    "fig = px.scatter_mapbox(\n",
    "    df.sort_values('clusters'),\n",
    "    lat=\"latitude\", \n",
    "    lon=\"longitude\", \n",
    "    color='clusters',\n",
    "    hover_name=df.index,\n",
    "    hover_data=['Gridref'],\n",
    "    zoom=3, \n",
    "    height=300\n",
    "    )\n",
    "\n",
    "fig.update_layout(\n",
    "    mapbox_style= \"carto-positron\",\n",
    "    mapbox_zoom=4, \n",
    "    mapbox_center_lat=55,\n",
    "    margin={\"r\":0,\"t\":0,\"l\":0,\"b\":0},\n",
    "    )\n",
    "\n",
    "fig.show()"
   ]
  }
 ],
 "metadata": {
  "kernelspec": {
   "display_name": "venv",
   "language": "python",
   "name": "python3"
  },
  "language_info": {
   "codemirror_mode": {
    "name": "ipython",
    "version": 3
   },
   "file_extension": ".py",
   "mimetype": "text/x-python",
   "name": "python",
   "nbconvert_exporter": "python",
   "pygments_lexer": "ipython3",
   "version": "3.11.1"
  },
  "orig_nbformat": 4,
  "vscode": {
   "interpreter": {
    "hash": "93ac4c22e8f09e80f674e881c26302417a41e8687a1b1dcb6c8722e8441eaa99"
   }
  }
 },
 "nbformat": 4,
 "nbformat_minor": 2
}
